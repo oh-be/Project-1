{
 "cells": [
  {
   "cell_type": "markdown",
   "id": "d9c573a7-4005-4f8c-90a5-8203db2e016f",
   "metadata": {},
   "source": [
    "# Questions:\n",
    " #### - Is pollution (CO2) related with climate change (avg globale temparture) CO2 and Temperature are correlated?\n",
    " #### - How does CO2 directly impact temperature?\n",
    "***"
   ]
  },
  {
   "cell_type": "markdown",
   "id": "e6e551f9-30bc-4965-a9d0-5e9795e89012",
   "metadata": {
    "jupyter": {
     "source_hidden": true
    },
    "tags": []
   },
   "source": [
    "# Hypothesis and Null Hypothesis:\n",
    " #### - CO2 pollution is strongly correlated with and therefore influences global climate change.\n",
    " #### - CO2 pollution is not correlated with and therefore does not influence global climate change.\n",
    "***"
   ]
  },
  {
   "cell_type": "markdown",
   "id": "ea8b13a4-ee1b-4363-88af-68bf7e0ac852",
   "metadata": {
    "jupyter": {
     "source_hidden": true
    },
    "tags": []
   },
   "source": [
    "## Sources\n",
    "#### 1. Natural occurance data is from 190 to 2015.\n",
    "#### - https://www.kaggle.com/dataenergy/natural-disaster-data\n",
    "#### 2. Mauna Loa CO2 annual mean data( text) or (CSV)\n",
    "#### - https://gml.noaa.gov/ccgg/trends/data.html\n",
    "#### 3. CO2 data from 1959 to 2015\n",
    "#### - https://www.ncei.noaa.gov/access/paleo-search/?dataTypeId=7\n",
    "#### 4. CO2 concentration from ice core samples\n",
    "#### - https://www.kaggle.com/berkeleyearth/climate-change-earth-surface-temperature-data\n",
    "#### 5. CO2 data from 1000 to 2004\n",
    "#### - https://www.ncei.noaa.gov/access/paleo-search/?dataTypeId=7\n",
    "#### 6. Conclusions and Interpretations\n",
    "#### - https://www.svds.com/avoiding-common-mistakes-with-time-series/\n",
    "---"
   ]
  },
  {
   "cell_type": "markdown",
   "id": "7eec9cad-3100-46f3-8191-a1289f7c46b5",
   "metadata": {},
   "source": [
    "## Assumptions:\n",
    " #### - Single source CO2 samples(ice cores) are representative of global CO2 values.\n",
    " #### - Land average temp data are representative of bulk average temperature globally.\n",
    " #### - Natural occurance data are representative of bulk average natural occurances globally.\n",
    " ---\n",
    "\n",
    "![CO2(ppm) vs Temp.png](TempVSCo2_HYC.png)\n",
    "\n",
    "### CO2(ppm) vs Temp (Degrees C)\n",
    "#### Strong correlation and the distribution of residuals are uniform (homoscedastic)\n",
    "---\n",
    "\n",
    "![CO2(ppm) vs Wildfire (Occurrence).png](Wildfire_year_HYC.png)\n",
    "\n",
    "### CO2(ppm) vs Wildfire (Occurance)\n",
    "#### Weak correlation and the distribution of residuals are nonuniform (heteroscedastic)\n",
    "#### The relationship breaksdown around 340 (ppm) which is the approximate the year 1980\n",
    "---\n",
    "\n",
    "![CO2(ppm) vs Flood (Occurrence).png](Flood_year_HYC.png)\n",
    "\n",
    "### CO2(ppm) vs Flood (Occurance)\n",
    "#### Strong correlation and the distribution of residuals are nonuniform (heteroscedastic)\n",
    "#### The relationship breaksdown around 360 (ppm) which is approximately the year 1990\n",
    "---\n",
    "\n",
    "![CO2(ppm) vs Drought (Occurrence).png](Drought_year_HYC.png)\n",
    "\n",
    "### CO2(ppm) vs Drought (Occurance)\n",
    "#### Weak correlation and the distribution of residuals are nonuniform (heteroscedastic)\n",
    "#### The distribution of errors seem to be increasing with time\n",
    "#### Many zeros before 320 ppm: 300 - 320 ppm is the timeframe from 1900 - 1960\n",
    "#### Zeros may be indicative of lack of data\n",
    "#### Mention Dustbowl - 1930\n",
    "---\n",
    "\n",
    "![CO2(ppm) vs Extreme temperature (Occurrence).png](Extreme_Temperature_year_HYC.png)\n",
    "\n",
    "### CO2(ppm) vs Extreme temperature (Occurance)\n",
    "#### Weak correlation and the distribution of residuals are nonuniform (heteroscedastic)\n",
    "#### The distribution of errors seem to be increasing with time\n",
    "#### Many zeros before 320 ppm: 300 - 320 ppm is the timeframe from 1900 - 1960\n",
    "#### Zeros may be indicative of lack of data\n",
    "---\n",
    "\n",
    "![CO2(ppm) vs All natural disasters (Occurrence).png](All_Natural_Disaster_year_HYC.png)\n",
    "\n",
    "### CO2(ppm) vs All natural disasters (Occurance)\n",
    "#### Strong correlation and the distribution of residuals are uniform (homoscedastic)\n",
    "#### Many zeros before 310 ppm: 310 ppm is around 1940\n",
    "#### Zeros may be indicative of lack of data\n",
    "#### The relationship breaksdown around 370 ppm which is approximately the year 2000\n",
    "---\n",
    "\n",
    "![CO2(ppm) vs Extreme weather (Occurrence).png](Extreme_Weather_year_HYC.png)\n",
    "\n",
    "### CO2(ppm) vs Extreme weather (Occurance)\n",
    "#### Strong correlation and the distribution of residuals are uniform (homoscedastic)\n",
    "#### Many zeros before 310 ppm: 310 ppm is around 1940\n",
    "#### Zeros may be indicative of lack of data\n",
    "#### 350 ppm is the timeframe around the year 1985\n",
    "---"
   ]
  },
  {
   "cell_type": "markdown",
   "id": "f108aa6c-b624-48f3-ba50-28866dda0304",
   "metadata": {},
   "source": [
    "![CO2(ppm) Less than 350 vs Extreme weather (Occurrence),png.png](CO2(ppm)_LessThan350_HYC.png)"
   ]
  },
  {
   "cell_type": "markdown",
   "id": "2e37a4ed-06a3-41f6-bed8-df6a1e9d36cb",
   "metadata": {},
   "source": [
    "### CO2(ppm) Less than 350 vs Extreme weather (Occurance)\n",
    "#### Strong correlation and the distribution of residuals are uniform (homoscedastic)\n",
    "#### Many zeros before 310 ppm: 310 ppm is around 1940\n",
    "#### Zeros may be indicative of lack of data\n",
    "---"
   ]
  },
  {
   "cell_type": "markdown",
   "id": "fd570f35-a8d3-4379-bea9-6cb03debaea5",
   "metadata": {},
   "source": [
    "![CO2(ppm) Greater than 350 vs Extreme weather (Occurrence).png](CO2(ppm)_GreaterThan350_HYC.png)"
   ]
  },
  {
   "cell_type": "markdown",
   "id": "33c2bb6f-c1c2-4753-8849-ae1a596e7fa9",
   "metadata": {},
   "source": [
    "### CO2(ppm) Greater than 350 vs Extreme weather (Occurance)\n",
    "#### Weak correlation and the distribution of residuals are nonuniform (heteroscedastic)\n",
    "---"
   ]
  },
  {
   "cell_type": "markdown",
   "id": "a46d5ca2-13d8-4bb4-bcd3-802723bff8a6",
   "metadata": {},
   "source": [
    "# Another way to look at the data ..."
   ]
  },
  {
   "cell_type": "code",
   "execution_count": null,
   "id": "a2e2a069-993a-46da-b8bd-189e69ab07d5",
   "metadata": {},
   "outputs": [],
   "source": []
  }
 ],
 "metadata": {
  "kernelspec": {
   "display_name": "Python 3",
   "language": "python",
   "name": "python3"
  },
  "language_info": {
   "codemirror_mode": {
    "name": "ipython",
    "version": 3
   },
   "file_extension": ".py",
   "mimetype": "text/x-python",
   "name": "python",
   "nbconvert_exporter": "python",
   "pygments_lexer": "ipython3",
   "version": "3.8.8"
  }
 },
 "nbformat": 4,
 "nbformat_minor": 5
}

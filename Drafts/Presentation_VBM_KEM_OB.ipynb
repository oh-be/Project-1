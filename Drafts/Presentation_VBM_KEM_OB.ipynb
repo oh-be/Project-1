{
 "cells": [
  {
   "cell_type": "markdown",
   "id": "b6512b52-5cca-4dc6-bf19-e62c7d9c721b",
   "metadata": {},
   "source": [
    "# Group 2: Is climate change real? \n",
    "***"
   ]
  },
  {
   "cell_type": "markdown",
   "id": "ab1954e0-4973-4a94-bb31-7b25854d64e9",
   "metadata": {},
   "source": [
    "## What motivated us?\n",
    "#### - We've heard on the media and from different world leaders and leading scientists that there is a climate change crisis\n",
    "#### - We wanted to look at the avaliable data and analyze it to form our own conclusions\n",
    "***"
   ]
  },
  {
   "cell_type": "markdown",
   "id": "7db3d4a9-afc9-4833-b610-ed6976857513",
   "metadata": {},
   "source": [
    "## Questions:\n",
    " ### Main question:\n",
    " #### -Is pollution related to climate change? \n",
    " \n",
    " ### Based on the availability of data and how well we could manipulate it, we decided to focus on these climate change indicators:\n",
    "   #### -Pollution through greenhouse gases (CO2 emissions)\n",
    "   #### -Rise in global temperatures\n",
    "   #### -An increase in natural disasters\n",
    "   \n",
    " ### Refined questions:\n",
    "   #### -Is pollution (CO2) related to climate change (average global temperatures)?\n",
    "   #### -Are CO2 emissions and global temperatures correlated?\n",
    "   #### - How does CO2 directly impact temperature?\n",
    "***"
   ]
  },
  {
   "cell_type": "markdown",
   "id": "157aba3b-62ae-4db1-825f-dc7124535d08",
   "metadata": {},
   "source": [
    "## Hypothesis and Null Hypothesis:\n",
    " #### - CO2 pollution is strongly correlated with and therefore influences global climate change.\n",
    " #### - CO2 pollution is not correlated with and therefore does not influence global climate change.\n",
    "***"
   ]
  },
  {
   "cell_type": "markdown",
   "id": "84bf58c6-1215-4e1a-aa37-6fa996ad0ac2",
   "metadata": {},
   "source": [
    "## Sources\n",
    "#### 1. Natural occurance data is from 190 to 2015.\n",
    "#### - https://www.kaggle.com/dataenergy/natural-disaster-data\n",
    "#### 2. Mauna Loa CO2 annual mean data( text) or (CSV)\n",
    "#### - https://gml.noaa.gov/ccgg/trends/data.html\n",
    "#### 3. CO2 data from 1959 to 2015\n",
    "#### - https://www.ncei.noaa.gov/access/paleo-search/?dataTypeId=7\n",
    "#### 4. CO2 concentration from ice core samples\n",
    "#### - https://www.kaggle.com/berkeleyearth/climate-change-earth-surface-temperature-data\n",
    "#### 5. CO2 data from 1000 to 2004\n",
    "#### - https://www.ncei.noaa.gov/access/paleo-search/?dataTypeId=7\n",
    "#### 6. Conclusions and Interpretations\n",
    "#### - https://www.svds.com/avoiding-common-mistakes-with-time-series/\n",
    "---"
   ]
  },
  {
   "cell_type": "markdown",
   "id": "169a29c8-3c02-4ab4-bc80-327831a4be1b",
   "metadata": {},
   "source": [
    "## Data Exploration\n",
    "***"
   ]
  },
  {
   "cell_type": "markdown",
   "id": "fd9f3d06-ce8c-4be1-bcd5-b22770c801ab",
   "metadata": {},
   "source": [
    "## Cleanup Process\n",
    "***"
   ]
  },
  {
   "cell_type": "markdown",
   "id": "e7465f02-23d8-4acf-8c56-6fbd428168c7",
   "metadata": {},
   "source": [
    "## Analysis of Final Data \n",
    " ### Assumptions:\n",
    " #### - Single source CO2 samples (ice cores) are representative of global CO2 values.\n",
    " #### - Land average temp data is representative of bulk average temperature globally.\n",
    " #### - Natural occurance data is representative of bulk average natural occurances globally.\n",
    " ---\n",
    "### CO2 (ppm) vs Temp (Degrees C)\n",
    "#### Strong correlation and the distribution of residuals are uniform (homoscedastic)\n",
    "![CO2(ppm) vs Temp.png](TempVSCo2_HYC.png)\n",
    "---\n",
    "### CO2 (ppm) vs Wildfire Events\n",
    "#### Weak correlation and the distribution of residuals are nonuniform (heteroscedastic)\n",
    "#### The relationship breaksdown around 340 (ppm) which is the approximate the year 1980\n",
    "![CO2(ppm) vs Wildfire (Occurrence).png](Wildfire_year_HYC.png)\n",
    "---\n",
    "### CO2 (ppm) vs Flood Events\n",
    "#### Strong correlation and the distribution of residuals are nonuniform (heteroscedastic)\n",
    "#### The relationship breaksdown around 360 (ppm) which is approximately the year 1990\n",
    "![CO2(ppm) vs Flood (Occurrence).png](Flood_year_HYC.png)\n",
    "---\n",
    "### CO2 (ppm) vs Drought Events\n",
    "#### Weak correlation and the distribution of residuals are nonuniform (heteroscedastic)\n",
    "#### The distribution of errors seem to be increasing with time\n",
    "#### Many zeros before 320 ppm: 300 - 320 ppm is the timeframe from 1900 - 1960\n",
    "#### Zeros may be indicative of lack of data\n",
    "#### Mention Dustbowl - 1930\n",
    "![CO2(ppm) vs Drought (Occurrence).png](Drought_year_HYC.png)\n",
    "---\n",
    "### CO2 (ppm) vs Extreme Temperature Events\n",
    "#### Weak correlation and the distribution of residuals are nonuniform (heteroscedastic)\n",
    "#### The distribution of errors seem to be increasing with time\n",
    "#### Many zeros before 320 ppm: 300 - 320 ppm is the timeframe from 1900 - 1960\n",
    "#### Zeros may be indicative of lack of data\n",
    "![CO2(ppm) vs Extreme temperature (Occurrence).png](Extreme_Temperature_year_HYC.png)\n",
    "---\n",
    "### CO2 (ppm) vs All Natural Disasters Events\n",
    "#### Strong correlation and the distribution of residuals are uniform (homoscedastic)\n",
    "#### Many zeros before 310 ppm: 310 ppm is around 1940\n",
    "#### Zeros may be indicative of lack of data\n",
    "#### The relationship breaksdown around 370 ppm which is approximately the year 2000\n",
    "![CO2(ppm) vs All natural disasters (Occurrence).png](All_Natural_Disaster_year_HYC.png)\n",
    "---\n",
    "### CO2 (ppm) vs Extreme Weather Events\n",
    "#### Strong correlation and the distribution of residuals are uniform (homoscedastic)\n",
    "#### Many zeros before 310 ppm: 310 ppm is around 1940\n",
    "#### Zeros may be indicative of lack of data\n",
    "#### 350 ppm is the timeframe around the year 1985\n",
    "![CO2(ppm) vs Extreme weather (Occurrence).png](Extreme_Weather_year_HYC.png)\n",
    "---\n",
    "### CO2 (Less than 350 ppm) vs Extreme Weather Events\n",
    "#### Strong correlation and the distribution of residuals are uniform (homoscedastic)\n",
    "#### Many zeros before 310 ppm: 310 ppm is around 1940\n",
    "#### Zeros may be indicative of lack of data\n",
    "![CO2(ppm) Less than 350 vs Extreme weather (Occurrence),png.png](CO2(ppm)_LessThan350_HYC.png)\n",
    "---\n",
    "### CO2 (Greater than 350 ppm) vs Extreme Weather Events\n",
    "#### Weak correlation and the distribution of residuals are nonuniform (heteroscedastic)\n",
    "![CO2(ppm) Greater than 350 vs Extreme weather (Occurrence).png](CO2(ppm)_GreaterThan350_HYC.png)\n",
    "---"
   ]
  },
  {
   "cell_type": "markdown",
   "id": "3b4aaf34-d9c1-49b2-bb0d-35492d634e0d",
   "metadata": {},
   "source": [
    "## Conclusions and Implications of our Findings\n",
    "### If our analyses are right:\n",
    "   #### -There is statistical evidence that there is a relationship between Average Global Land Temperature and Atmospheric CO2 concentation.\n",
    "   #### - There is statistical evidencethat there is a relationship between occurence of natural disasters and Atmospheric CO2 concentration\n",
    "\n",
    "### Alternatively: \n",
    "   #### - Late in project we learned that time series correlation should be done differently:\n",
    "   #### - Differencing, (Not absolute values) should be used to establish correlatoin\n",
    "   #### - Box-Cox transformation should be done to normalize variance\n",
    "   #### - Time Series data that is monotonically increasing will always have a strong correlation (mis-leading)\n",
    "   #### - Given additional time - we would repeat our analysis to determine if our conclusions are still valid.\n",
    "***"
   ]
  },
  {
   "cell_type": "markdown",
   "id": "55e58695-60d6-40d4-9056-f812600cf9a4",
   "metadata": {},
   "source": []
  },
  {
   "cell_type": "code",
   "execution_count": null,
   "id": "5e1ed57d-79bc-44fc-b569-f9e80d6e6978",
   "metadata": {},
   "outputs": [],
   "source": []
  }
 ],
 "metadata": {
  "kernelspec": {
   "display_name": "Python 3 (ipykernel)",
   "language": "python",
   "name": "python3"
  },
  "language_info": {
   "codemirror_mode": {
    "name": "ipython",
    "version": 3
   },
   "file_extension": ".py",
   "mimetype": "text/x-python",
   "name": "python",
   "nbconvert_exporter": "python",
   "pygments_lexer": "ipython3",
   "version": "3.8.12"
  }
 },
 "nbformat": 4,
 "nbformat_minor": 5
}

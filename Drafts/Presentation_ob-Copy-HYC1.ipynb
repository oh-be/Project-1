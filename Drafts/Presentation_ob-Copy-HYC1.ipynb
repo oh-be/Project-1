{
 "cells": [
  {
   "cell_type": "markdown",
   "id": "d9c573a7-4005-4f8c-90a5-8203db2e016f",
   "metadata": {},
   "source": [
    "# Questions:\n",
    " #### - Is pollution (CO2) related with climate change (avg globale temparture) CO2 and Temperature are correlated?\n",
    " #### - How does CO2 directly impact temperature?\n",
    "***"
   ]
  },
  {
   "cell_type": "markdown",
   "id": "e6e551f9-30bc-4965-a9d0-5e9795e89012",
   "metadata": {},
   "source": [
    "# Hypothesis and Null Hypothesis:\n",
    " #### - CO2 pollution is strongly correlated with and therefore influences global climate change.\n",
    " #### - CO2 pollution is not correlated with and therefore does not influence global climate change.\n",
    "***"
   ]
  },
  {
   "cell_type": "markdown",
   "id": "ea8b13a4-ee1b-4363-88af-68bf7e0ac852",
   "metadata": {
    "tags": []
   },
   "source": [
    "## Sources\n",
    "#### 1. Natural occurance data is from 1900 to 2015.\n",
    "#### - https://www.kaggle.com/dataenergy/natural-disaster-data\n",
    "#### 2. Mauna Loa CO2 annual mean data( text) or (CSV)\n",
    "#### - https://gml.noaa.gov/ccgg/trends/data.html\n",
    "#### 3. CO2 data from 1959 to 2015\n",
    "#### - https://www.ncei.noaa.gov/access/paleo-search/?dataTypeId=7\n",
    "#### 4. Land Average Temperature 1750-2015\n",
    "#### - https://www.kaggle.com/berkeleyearth/climate-change-earth-surface-temperature-data\n",
    "#### 5. CO2 data from 1000 to 2004\n",
    "#### - https://www.ncei.noaa.gov/access/paleo-search/?dataTypeId=7\n",
    "#### 6. Conclusions and Interpretations\n",
    "#### - https://www.svds.com/avoiding-common-mistakes-with-time-series/\n",
    "---"
   ]
  },
  {
   "cell_type": "markdown",
   "id": "a1ca9524-9a47-4637-a829-f663eff28ec4",
   "metadata": {},
   "source": [
    "## Data exploration and Cleanup process\n",
    "1. Download Temperature and CO2 data\n",
    "#### 2. Download Disaster data from kaggle \"natural-disaster-data\"\n",
    "#### 3. Drop irrelevant columns and rename remaining columns (Year, All Natural Disaster, Drought, Extreme Temperature, Extreme Weather, Flood, Wildfire)\n",
    "#### 4. Merge 'Temperature and CO2' dataset with 'Disaster' dataset on 'Year'\n",
    "#### 5. Drop years without 'Disaster' data to ensure years have all relevant columns\n",
    "#### 6. Using seaborn to plot data, plt to format, and scipi to run statisical equations created graphs for\n",
    "- \n",
    "\n",
    "#### 3. Using CO2 and Temperature merge data dataNatural occurance data is from 190 to 2015.\n",
    "#### - https://www.kaggle.com/dataenergy/natural-disaster-data\n"
   ]
  },
  {
   "cell_type": "markdown",
   "id": "2daada86-4830-4d30-a102-5a144deed3b0",
   "metadata": {},
   "source": [
    "## Assumptions:\n",
    " #### - Single source CO2 samples(ice cores) are representative of global CO2 values.\n",
    " #### - Land average temp data are representative of bulk average temperature globally.\n",
    " #### - Natural occurance data are representative of bulk average natural occurances globally.\n",
    " ---"
   ]
  },
  {
   "cell_type": "markdown",
   "id": "aae10ac8-7307-40a4-81f7-e0a4a0c72d81",
   "metadata": {},
   "source": [
    "![CO2(ppm) vs Temp.png](TempVSCo2_HYC.png)"
   ]
  },
  {
   "cell_type": "markdown",
   "id": "696e0570-c45d-4a36-8d22-529f93b44742",
   "metadata": {},
   "source": [
    "### CO2(ppm) vs Temp (Degrees C)\n",
    "#### Strong correlation and the distribution of residuals are uniform (homoscedastic)\n",
    "---"
   ]
  },
  {
   "cell_type": "markdown",
   "id": "3df26c75-acb6-4449-8d04-410266b0f886",
   "metadata": {},
   "source": [
    "![CO2(ppm) vs Wildfire (Occurrence).png](Wildfire_year_HYC.png)"
   ]
  },
  {
   "cell_type": "markdown",
   "id": "77bddfb2-1617-4b8f-bb26-ee53ba975a39",
   "metadata": {},
   "source": [
    "### CO2(ppm) vs Wildfire (Occurance)\n",
    "#### Weak correlation and the distribution of residuals are nonuniform (heteroscedastic)\n",
    "#### The relationship breaksdown around 340 (ppm) which is the approximate the year 1980\n",
    "---"
   ]
  },
  {
   "cell_type": "markdown",
   "id": "c824a366-3d7d-4e58-9bb1-7922549e4c0e",
   "metadata": {},
   "source": [
    "![CO2(ppm) vs Flood (Occurrence).png](Flood_year_HYC.png)"
   ]
  },
  {
   "cell_type": "markdown",
   "id": "dc791cf8-f6de-45a2-92ad-e18d67b5ad5e",
   "metadata": {},
   "source": [
    "### CO2(ppm) vs Flood (Occurance)\n",
    "#### Strong correlation and the distribution of residuals are nonuniform (heteroscedastic)\n",
    "#### The relationship breaksdown around 360 (ppm) which is approximately the year 1990\n",
    "---"
   ]
  },
  {
   "cell_type": "markdown",
   "id": "6c096f6a-c847-40b4-8d42-d3ad172322ca",
   "metadata": {},
   "source": [
    "![CO2(ppm) vs Drought (Occurrence).png](Drought_year_HYC.png)"
   ]
  },
  {
   "cell_type": "markdown",
   "id": "7a37fd7a-e5ed-4da3-bd94-39912b642028",
   "metadata": {},
   "source": [
    "### CO2(ppm) vs Drought (Occurance)\n",
    "#### Weak correlation and the distribution of residuals are nonuniform (heteroscedastic)\n",
    "#### The distribution of errors seem to be increasing with time\n",
    "#### Many zeros before 320 ppm: 300 - 320 ppm is the timeframe from 1900 - 1960\n",
    "#### Zeros may be indicative of lack of data\n",
    "#### Mention Dustbowl - 1930\n",
    "---"
   ]
  },
  {
   "cell_type": "markdown",
   "id": "ddb92a06-7434-4b06-a840-9e5b61daf301",
   "metadata": {},
   "source": [
    "![CO2(ppm) vs Extreme temperature (Occurrence).png](Extreme_Temperature_year_HYC.png)"
   ]
  },
  {
   "cell_type": "markdown",
   "id": "aff1d7fc-174a-4427-8bea-e8afba56cebe",
   "metadata": {},
   "source": [
    "### CO2(ppm) vs Extreme temperature (Occurance)\n",
    "#### Weak correlation and the distribution of residuals are nonuniform (heteroscedastic)\n",
    "#### The distribution of errors seem to be increasing with time\n",
    "#### Many zeros before 320 ppm: 300 - 320 ppm is the timeframe from 1900 - 1960\n",
    "#### Zeros may be indicative of lack of data\n",
    "---"
   ]
  },
  {
   "cell_type": "markdown",
   "id": "2d529621-e8db-4eee-b6e1-3abb5e7196ff",
   "metadata": {},
   "source": [
    "![CO2(ppm) vs All natural disasters (Occurrence).png](All_Natural_Disaster_year_HYC.png)"
   ]
  },
  {
   "cell_type": "markdown",
   "id": "b32a6429-5e8f-4c35-80e1-403da6a936ac",
   "metadata": {},
   "source": [
    "### CO2(ppm) vs All natural disasters (Occurance)\n",
    "#### Strong correlation and the distribution of residuals are uniform (homoscedastic)\n",
    "#### Many zeros before 310 ppm: 310 ppm is around 1940\n",
    "#### Zeros may be indicative of lack of data\n",
    "#### The relationship breaksdown around 370 ppm which is approximately the year 2000\n",
    "---"
   ]
  },
  {
   "cell_type": "markdown",
   "id": "9b27d16f-765e-44a5-8979-464529eb537b",
   "metadata": {},
   "source": [
    "![CO2(ppm) vs Extreme weather (Occurrence).png](Extreme_Weather_year_HYC.png)"
   ]
  },
  {
   "cell_type": "markdown",
   "id": "e1d731af-c4f2-470d-91fc-3c99177fc7cd",
   "metadata": {},
   "source": [
    "### CO2(ppm) vs Extreme weather (Occurance)\n",
    "#### Strong correlation and the distribution of residuals are uniform (homoscedastic)\n",
    "#### Many zeros before 310 ppm: 310 ppm is around 1940\n",
    "#### Zeros may be indicative of lack of data\n",
    "#### 350 ppm is the timeframe around the year 1985\n",
    "---"
   ]
  },
  {
   "cell_type": "markdown",
   "id": "f108aa6c-b624-48f3-ba50-28866dda0304",
   "metadata": {},
   "source": [
    "![CO2(ppm) Less than 350 vs Extreme weather (Occurrence),png.png](CO2(ppm)_LessThan350_HYC.png)"
   ]
  },
  {
   "cell_type": "markdown",
   "id": "2e37a4ed-06a3-41f6-bed8-df6a1e9d36cb",
   "metadata": {},
   "source": [
    "### CO2(ppm) Less than 350 vs Extreme weather (Occurance)\n",
    "#### Strong correlation and the distribution of residuals are uniform (homoscedastic)\n",
    "#### Many zeros before 310 ppm: 310 ppm is around 1940\n",
    "#### Zeros may be indicative of lack of data\n",
    "---"
   ]
  },
  {
   "cell_type": "markdown",
   "id": "fd570f35-a8d3-4379-bea9-6cb03debaea5",
   "metadata": {},
   "source": [
    "![CO2(ppm) Greater than 350 vs Extreme weather (Occurrence).png](CO2(ppm)_GreaterThan350_HYC.png)"
   ]
  },
  {
   "cell_type": "markdown",
   "id": "33c2bb6f-c1c2-4753-8849-ae1a596e7fa9",
   "metadata": {},
   "source": [
    "### CO2(ppm) Greater than 350 vs Extreme weather (Occurance)\n",
    "#### Weak correlation and the distribution of residuals are nonuniform (heteroscedastic)\n",
    "---"
   ]
  },
  {
   "cell_type": "markdown",
   "id": "a46d5ca2-13d8-4bb4-bcd3-802723bff8a6",
   "metadata": {},
   "source": [
    "# Another way to look at the data ..."
   ]
  },
  {
   "cell_type": "code",
   "execution_count": null,
   "id": "a2e2a069-993a-46da-b8bd-189e69ab07d5",
   "metadata": {},
   "outputs": [],
   "source": []
  }
 ],
 "metadata": {
  "kernelspec": {
   "display_name": "Python 3",
   "language": "python",
   "name": "python3"
  },
  "language_info": {
   "codemirror_mode": {
    "name": "ipython",
    "version": 3
   },
   "file_extension": ".py",
   "mimetype": "text/x-python",
   "name": "python",
   "nbconvert_exporter": "python",
   "pygments_lexer": "ipython3",
   "version": "3.8.8"
  },
  "widgets": {
   "application/vnd.jupyter.widget-state+json": {
    "state": {},
    "version_major": 2,
    "version_minor": 0
   }
  }
 },
 "nbformat": 4,
 "nbformat_minor": 5
}

{
 "cells": [
  {
   "cell_type": "code",
<<<<<<< HEAD
   "execution_count": 1,
=======
   "execution_count": 3,
>>>>>>> kem
   "id": "30d3d20f-ffd2-4e1c-9f51-cae0e04ea2b5",
   "metadata": {},
   "outputs": [],
   "source": [
    "# Import Dependencies\n",
    "import pandas as pd\n",
    "import numpy as np\n",
    "\n",
    "# Dependencies and Setup\n",
    "import matplotlib.pyplot as plt\n",
    "import pandas as pd\n",
    "import scipy.stats as st\n",
    "import scipy\n",
    "import numpy as np\n",
    "from scipy.stats import linregress\n",
    "from sklearn import datasets\n",
    "import scipy.stats as stats\n",
    "from scipy.stats import ttest_ind\n",
    "from pingouin import ttest\n",
    "from scipy.stats import ttest_rel\n",
    "from scipy.stats import ttest_ind"
   ]
  },
  {
   "cell_type": "code",
<<<<<<< HEAD
   "execution_count": 2,
=======
   "execution_count": 4,
>>>>>>> kem
   "id": "af3dcaf6-66a9-4d5c-bb57-adc6355329dd",
   "metadata": {
    "tags": []
   },
   "outputs": [],
   "source": [
    "# https://gml.noaa.gov/ccgg/trends/data.html\n",
    "# Mauna Loa CO2 annual mean data( text) or (CSV)\n",
    "# CO2 data from 1959 to 2015\n",
    "\n",
    "file = \"CO2_DataSet_1.csv\"\n",
    "\n",
    "# Read the  csv and store into Pandas DataFrame\n",
    "co2_df = pd.read_csv(file, encoding=\"utf-8\")\n",
    "# co2_df"
   ]
  },
  {
   "cell_type": "code",
<<<<<<< HEAD
   "execution_count": 3,
=======
   "execution_count": 5,
>>>>>>> kem
   "id": "b8be408e-00d7-4e1f-9074-9a417e14eb77",
   "metadata": {
    "tags": []
   },
   "outputs": [
    {
     "data": {
      "text/html": [
       "<div>\n",
       "<style scoped>\n",
       "    .dataframe tbody tr th:only-of-type {\n",
       "        vertical-align: middle;\n",
       "    }\n",
       "\n",
       "    .dataframe tbody tr th {\n",
       "        vertical-align: top;\n",
       "    }\n",
       "\n",
       "    .dataframe thead th {\n",
       "        text-align: right;\n",
       "    }\n",
       "</style>\n",
       "<table border=\"1\" class=\"dataframe\">\n",
       "  <thead>\n",
       "    <tr style=\"text-align: right;\">\n",
       "      <th></th>\n",
       "      <th>Year</th>\n",
       "      <th>CO2(ppm)</th>\n",
       "    </tr>\n",
       "  </thead>\n",
       "  <tbody>\n",
       "    <tr>\n",
       "      <th>0</th>\n",
       "      <td>1959.0</td>\n",
       "      <td>315.98</td>\n",
       "    </tr>\n",
       "    <tr>\n",
       "      <th>1</th>\n",
       "      <td>1960.0</td>\n",
       "      <td>316.91</td>\n",
       "    </tr>\n",
       "    <tr>\n",
       "      <th>2</th>\n",
       "      <td>1961.0</td>\n",
       "      <td>317.64</td>\n",
       "    </tr>\n",
       "    <tr>\n",
       "      <th>3</th>\n",
       "      <td>1962.0</td>\n",
       "      <td>318.45</td>\n",
       "    </tr>\n",
       "    <tr>\n",
       "      <th>4</th>\n",
       "      <td>1963.0</td>\n",
       "      <td>318.99</td>\n",
       "    </tr>\n",
       "    <tr>\n",
       "      <th>...</th>\n",
       "      <td>...</td>\n",
       "      <td>...</td>\n",
       "    </tr>\n",
       "    <tr>\n",
       "      <th>58</th>\n",
       "      <td>2017.0</td>\n",
       "      <td>406.76</td>\n",
       "    </tr>\n",
       "    <tr>\n",
       "      <th>59</th>\n",
       "      <td>2018.0</td>\n",
       "      <td>408.72</td>\n",
       "    </tr>\n",
       "    <tr>\n",
       "      <th>60</th>\n",
       "      <td>2019.0</td>\n",
       "      <td>411.66</td>\n",
       "    </tr>\n",
       "    <tr>\n",
       "      <th>61</th>\n",
       "      <td>2020.0</td>\n",
       "      <td>414.24</td>\n",
       "    </tr>\n",
       "    <tr>\n",
       "      <th>62</th>\n",
       "      <td>NaN</td>\n",
       "      <td>NaN</td>\n",
       "    </tr>\n",
       "  </tbody>\n",
       "</table>\n",
       "<p>63 rows × 2 columns</p>\n",
       "</div>"
      ],
      "text/plain": [
       "      Year  CO2(ppm)\n",
       "0   1959.0    315.98\n",
       "1   1960.0    316.91\n",
       "2   1961.0    317.64\n",
       "3   1962.0    318.45\n",
       "4   1963.0    318.99\n",
       "..     ...       ...\n",
       "58  2017.0    406.76\n",
       "59  2018.0    408.72\n",
       "60  2019.0    411.66\n",
       "61  2020.0    414.24\n",
       "62     NaN       NaN\n",
       "\n",
       "[63 rows x 2 columns]"
      ]
     },
<<<<<<< HEAD
     "execution_count": 3,
=======
     "execution_count": 5,
>>>>>>> kem
     "metadata": {},
     "output_type": "execute_result"
    }
   ],
   "source": [
    "co2_clean_df = co2_df.iloc[:,[0,1]]\n",
    "co2_clean_df = co2_clean_df.rename(columns={\"year\":\"Year\",\"mean\":\"CO2(ppm)\"})\n",
    "co2_clean_df"
   ]
  },
  {
   "cell_type": "code",
<<<<<<< HEAD
   "execution_count": 4,
=======
   "execution_count": 6,
>>>>>>> kem
   "id": "58961bd5-f3ae-4911-b26d-b2b1d0c5df3f",
   "metadata": {},
   "outputs": [
    {
     "data": {
      "text/html": [
       "<div>\n",
       "<style scoped>\n",
       "    .dataframe tbody tr th:only-of-type {\n",
       "        vertical-align: middle;\n",
       "    }\n",
       "\n",
       "    .dataframe tbody tr th {\n",
       "        vertical-align: top;\n",
       "    }\n",
       "\n",
       "    .dataframe thead th {\n",
       "        text-align: right;\n",
       "    }\n",
       "</style>\n",
       "<table border=\"1\" class=\"dataframe\">\n",
       "  <thead>\n",
       "    <tr style=\"text-align: right;\">\n",
       "      <th></th>\n",
       "      <th>Year</th>\n",
       "      <th>CO2(ppm)</th>\n",
       "    </tr>\n",
       "  </thead>\n",
       "  <tbody>\n",
       "    <tr>\n",
       "      <th>0</th>\n",
       "      <td>1959.0</td>\n",
       "      <td>315.98</td>\n",
       "    </tr>\n",
       "    <tr>\n",
       "      <th>1</th>\n",
       "      <td>1960.0</td>\n",
       "      <td>316.91</td>\n",
       "    </tr>\n",
       "    <tr>\n",
       "      <th>2</th>\n",
       "      <td>1961.0</td>\n",
       "      <td>317.64</td>\n",
       "    </tr>\n",
       "    <tr>\n",
       "      <th>3</th>\n",
       "      <td>1962.0</td>\n",
       "      <td>318.45</td>\n",
       "    </tr>\n",
       "    <tr>\n",
       "      <th>4</th>\n",
       "      <td>1963.0</td>\n",
       "      <td>318.99</td>\n",
       "    </tr>\n",
       "    <tr>\n",
       "      <th>...</th>\n",
       "      <td>...</td>\n",
       "      <td>...</td>\n",
       "    </tr>\n",
       "    <tr>\n",
       "      <th>57</th>\n",
       "      <td>2016.0</td>\n",
       "      <td>404.41</td>\n",
       "    </tr>\n",
       "    <tr>\n",
       "      <th>58</th>\n",
       "      <td>2017.0</td>\n",
       "      <td>406.76</td>\n",
       "    </tr>\n",
       "    <tr>\n",
       "      <th>59</th>\n",
       "      <td>2018.0</td>\n",
       "      <td>408.72</td>\n",
       "    </tr>\n",
       "    <tr>\n",
       "      <th>60</th>\n",
       "      <td>2019.0</td>\n",
       "      <td>411.66</td>\n",
       "    </tr>\n",
       "    <tr>\n",
       "      <th>61</th>\n",
       "      <td>2020.0</td>\n",
       "      <td>414.24</td>\n",
       "    </tr>\n",
       "  </tbody>\n",
       "</table>\n",
       "<p>62 rows × 2 columns</p>\n",
       "</div>"
      ],
      "text/plain": [
       "      Year  CO2(ppm)\n",
       "0   1959.0    315.98\n",
       "1   1960.0    316.91\n",
       "2   1961.0    317.64\n",
       "3   1962.0    318.45\n",
       "4   1963.0    318.99\n",
       "..     ...       ...\n",
       "57  2016.0    404.41\n",
       "58  2017.0    406.76\n",
       "59  2018.0    408.72\n",
       "60  2019.0    411.66\n",
       "61  2020.0    414.24\n",
       "\n",
       "[62 rows x 2 columns]"
      ]
     },
<<<<<<< HEAD
     "execution_count": 4,
=======
     "execution_count": 6,
>>>>>>> kem
     "metadata": {},
     "output_type": "execute_result"
    }
   ],
   "source": [
    "co2_clean_df.dropna(subset = ['Year'], inplace=True)\n",
    "co2_clean_df"
   ]
  },
  {
   "cell_type": "code",
<<<<<<< HEAD
   "execution_count": 5,
=======
   "execution_count": 7,
>>>>>>> kem
   "id": "d8242ebc-ce31-4ec8-a09d-24b18dc8738b",
   "metadata": {},
   "outputs": [],
   "source": [
    "# Show data types for all columns \n",
    "# co2_clean_df.dtypes\n",
    "\n",
    "co2_clean_df['Year'] = co2_clean_df.loc[:,'Year'].astype(int)\n",
    "# co2_clean_df.info()\n",
    "# co2_clean_df\n"
   ]
  },
  {
   "cell_type": "code",
<<<<<<< HEAD
   "execution_count": 6,
=======
   "execution_count": 8,
>>>>>>> kem
   "id": "65861127-0e90-4b00-86f4-332d50a4070f",
   "metadata": {},
   "outputs": [
    {
     "data": {
      "text/html": [
       "<div>\n",
       "<style scoped>\n",
       "    .dataframe tbody tr th:only-of-type {\n",
       "        vertical-align: middle;\n",
       "    }\n",
       "\n",
       "    .dataframe tbody tr th {\n",
       "        vertical-align: top;\n",
       "    }\n",
       "\n",
       "    .dataframe thead th {\n",
       "        text-align: right;\n",
       "    }\n",
       "</style>\n",
       "<table border=\"1\" class=\"dataframe\">\n",
       "  <thead>\n",
       "    <tr style=\"text-align: right;\">\n",
       "      <th></th>\n",
       "      <th>Year</th>\n",
       "      <th>ALL_50_full</th>\n",
       "      <th>LD_050</th>\n",
       "      <th>DML_050</th>\n",
       "      <th>ALL_050</th>\n",
       "      <th>LD_075</th>\n",
       "      <th>DML_075</th>\n",
       "      <th>ALL_075</th>\n",
       "      <th>LD_100</th>\n",
       "      <th>DML_100</th>\n",
       "      <th>...</th>\n",
       "      <th>ALL_125</th>\n",
       "      <th>LD_150</th>\n",
       "      <th>DML_150</th>\n",
       "      <th>ALL_150</th>\n",
       "      <th>LD_175</th>\n",
       "      <th>DML_175</th>\n",
       "      <th>ALL_175</th>\n",
       "      <th>LD_200</th>\n",
       "      <th>DML_200</th>\n",
       "      <th>ALL_200</th>\n",
       "    </tr>\n",
       "  </thead>\n",
       "  <tbody>\n",
       "    <tr>\n",
       "      <th>0</th>\n",
       "      <td>1000</td>\n",
       "      <td>278.66</td>\n",
       "      <td>NaN</td>\n",
       "      <td>NaN</td>\n",
       "      <td>NaN</td>\n",
       "      <td>NaN</td>\n",
       "      <td>NaN</td>\n",
       "      <td>NaN</td>\n",
       "      <td>NaN</td>\n",
       "      <td>NaN</td>\n",
       "      <td>...</td>\n",
       "      <td>NaN</td>\n",
       "      <td>NaN</td>\n",
       "      <td>NaN</td>\n",
       "      <td>NaN</td>\n",
       "      <td>NaN</td>\n",
       "      <td>NaN</td>\n",
       "      <td>NaN</td>\n",
       "      <td>NaN</td>\n",
       "      <td>NaN</td>\n",
       "      <td>NaN</td>\n",
       "    </tr>\n",
       "    <tr>\n",
       "      <th>1</th>\n",
       "      <td>1001</td>\n",
       "      <td>278.68</td>\n",
       "      <td>NaN</td>\n",
       "      <td>NaN</td>\n",
       "      <td>NaN</td>\n",
       "      <td>NaN</td>\n",
       "      <td>NaN</td>\n",
       "      <td>NaN</td>\n",
       "      <td>NaN</td>\n",
       "      <td>NaN</td>\n",
       "      <td>...</td>\n",
       "      <td>NaN</td>\n",
       "      <td>NaN</td>\n",
       "      <td>NaN</td>\n",
       "      <td>NaN</td>\n",
       "      <td>NaN</td>\n",
       "      <td>NaN</td>\n",
       "      <td>NaN</td>\n",
       "      <td>NaN</td>\n",
       "      <td>NaN</td>\n",
       "      <td>NaN</td>\n",
       "    </tr>\n",
       "    <tr>\n",
       "      <th>2</th>\n",
       "      <td>1002</td>\n",
       "      <td>278.69</td>\n",
       "      <td>NaN</td>\n",
       "      <td>NaN</td>\n",
       "      <td>NaN</td>\n",
       "      <td>NaN</td>\n",
       "      <td>NaN</td>\n",
       "      <td>NaN</td>\n",
       "      <td>NaN</td>\n",
       "      <td>NaN</td>\n",
       "      <td>...</td>\n",
       "      <td>NaN</td>\n",
       "      <td>NaN</td>\n",
       "      <td>NaN</td>\n",
       "      <td>NaN</td>\n",
       "      <td>NaN</td>\n",
       "      <td>NaN</td>\n",
       "      <td>NaN</td>\n",
       "      <td>NaN</td>\n",
       "      <td>NaN</td>\n",
       "      <td>NaN</td>\n",
       "    </tr>\n",
       "    <tr>\n",
       "      <th>3</th>\n",
       "      <td>1003</td>\n",
       "      <td>278.71</td>\n",
       "      <td>NaN</td>\n",
       "      <td>NaN</td>\n",
       "      <td>NaN</td>\n",
       "      <td>NaN</td>\n",
       "      <td>NaN</td>\n",
       "      <td>NaN</td>\n",
       "      <td>NaN</td>\n",
       "      <td>NaN</td>\n",
       "      <td>...</td>\n",
       "      <td>NaN</td>\n",
       "      <td>NaN</td>\n",
       "      <td>NaN</td>\n",
       "      <td>NaN</td>\n",
       "      <td>NaN</td>\n",
       "      <td>NaN</td>\n",
       "      <td>NaN</td>\n",
       "      <td>NaN</td>\n",
       "      <td>NaN</td>\n",
       "      <td>NaN</td>\n",
       "    </tr>\n",
       "    <tr>\n",
       "      <th>4</th>\n",
       "      <td>1004</td>\n",
       "      <td>278.72</td>\n",
       "      <td>NaN</td>\n",
       "      <td>NaN</td>\n",
       "      <td>NaN</td>\n",
       "      <td>NaN</td>\n",
       "      <td>NaN</td>\n",
       "      <td>NaN</td>\n",
       "      <td>NaN</td>\n",
       "      <td>NaN</td>\n",
       "      <td>...</td>\n",
       "      <td>NaN</td>\n",
       "      <td>NaN</td>\n",
       "      <td>NaN</td>\n",
       "      <td>NaN</td>\n",
       "      <td>NaN</td>\n",
       "      <td>NaN</td>\n",
       "      <td>NaN</td>\n",
       "      <td>NaN</td>\n",
       "      <td>NaN</td>\n",
       "      <td>NaN</td>\n",
       "    </tr>\n",
       "    <tr>\n",
       "      <th>...</th>\n",
       "      <td>...</td>\n",
       "      <td>...</td>\n",
       "      <td>...</td>\n",
       "      <td>...</td>\n",
       "      <td>...</td>\n",
       "      <td>...</td>\n",
       "      <td>...</td>\n",
       "      <td>...</td>\n",
       "      <td>...</td>\n",
       "      <td>...</td>\n",
       "      <td>...</td>\n",
       "      <td>...</td>\n",
       "      <td>...</td>\n",
       "      <td>...</td>\n",
       "      <td>...</td>\n",
       "      <td>...</td>\n",
       "      <td>...</td>\n",
       "      <td>...</td>\n",
       "      <td>...</td>\n",
       "      <td>...</td>\n",
       "      <td>...</td>\n",
       "    </tr>\n",
       "    <tr>\n",
       "      <th>1000</th>\n",
       "      <td>2000</td>\n",
       "      <td>366.40</td>\n",
       "      <td>NaN</td>\n",
       "      <td>NaN</td>\n",
       "      <td>NaN</td>\n",
       "      <td>NaN</td>\n",
       "      <td>NaN</td>\n",
       "      <td>NaN</td>\n",
       "      <td>NaN</td>\n",
       "      <td>NaN</td>\n",
       "      <td>...</td>\n",
       "      <td>NaN</td>\n",
       "      <td>NaN</td>\n",
       "      <td>NaN</td>\n",
       "      <td>NaN</td>\n",
       "      <td>NaN</td>\n",
       "      <td>NaN</td>\n",
       "      <td>NaN</td>\n",
       "      <td>NaN</td>\n",
       "      <td>NaN</td>\n",
       "      <td>NaN</td>\n",
       "    </tr>\n",
       "    <tr>\n",
       "      <th>1001</th>\n",
       "      <td>2001</td>\n",
       "      <td>368.03</td>\n",
       "      <td>NaN</td>\n",
       "      <td>NaN</td>\n",
       "      <td>NaN</td>\n",
       "      <td>NaN</td>\n",
       "      <td>NaN</td>\n",
       "      <td>NaN</td>\n",
       "      <td>NaN</td>\n",
       "      <td>NaN</td>\n",
       "      <td>...</td>\n",
       "      <td>NaN</td>\n",
       "      <td>NaN</td>\n",
       "      <td>NaN</td>\n",
       "      <td>NaN</td>\n",
       "      <td>NaN</td>\n",
       "      <td>NaN</td>\n",
       "      <td>NaN</td>\n",
       "      <td>NaN</td>\n",
       "      <td>NaN</td>\n",
       "      <td>NaN</td>\n",
       "    </tr>\n",
       "    <tr>\n",
       "      <th>1002</th>\n",
       "      <td>2002</td>\n",
       "      <td>369.66</td>\n",
       "      <td>NaN</td>\n",
       "      <td>NaN</td>\n",
       "      <td>NaN</td>\n",
       "      <td>NaN</td>\n",
       "      <td>NaN</td>\n",
       "      <td>NaN</td>\n",
       "      <td>NaN</td>\n",
       "      <td>NaN</td>\n",
       "      <td>...</td>\n",
       "      <td>NaN</td>\n",
       "      <td>NaN</td>\n",
       "      <td>NaN</td>\n",
       "      <td>NaN</td>\n",
       "      <td>NaN</td>\n",
       "      <td>NaN</td>\n",
       "      <td>NaN</td>\n",
       "      <td>NaN</td>\n",
       "      <td>NaN</td>\n",
       "      <td>NaN</td>\n",
       "    </tr>\n",
       "    <tr>\n",
       "      <th>1003</th>\n",
       "      <td>2003</td>\n",
       "      <td>371.30</td>\n",
       "      <td>NaN</td>\n",
       "      <td>NaN</td>\n",
       "      <td>NaN</td>\n",
       "      <td>NaN</td>\n",
       "      <td>NaN</td>\n",
       "      <td>NaN</td>\n",
       "      <td>NaN</td>\n",
       "      <td>NaN</td>\n",
       "      <td>...</td>\n",
       "      <td>NaN</td>\n",
       "      <td>NaN</td>\n",
       "      <td>NaN</td>\n",
       "      <td>NaN</td>\n",
       "      <td>NaN</td>\n",
       "      <td>NaN</td>\n",
       "      <td>NaN</td>\n",
       "      <td>NaN</td>\n",
       "      <td>NaN</td>\n",
       "      <td>NaN</td>\n",
       "    </tr>\n",
       "    <tr>\n",
       "      <th>1004</th>\n",
       "      <td>2004</td>\n",
       "      <td>372.93</td>\n",
       "      <td>NaN</td>\n",
       "      <td>NaN</td>\n",
       "      <td>NaN</td>\n",
       "      <td>NaN</td>\n",
       "      <td>NaN</td>\n",
       "      <td>NaN</td>\n",
       "      <td>NaN</td>\n",
       "      <td>NaN</td>\n",
       "      <td>...</td>\n",
       "      <td>NaN</td>\n",
       "      <td>NaN</td>\n",
       "      <td>NaN</td>\n",
       "      <td>NaN</td>\n",
       "      <td>NaN</td>\n",
       "      <td>NaN</td>\n",
       "      <td>NaN</td>\n",
       "      <td>NaN</td>\n",
       "      <td>NaN</td>\n",
       "      <td>NaN</td>\n",
       "    </tr>\n",
       "  </tbody>\n",
       "</table>\n",
       "<p>1005 rows × 23 columns</p>\n",
       "</div>"
      ],
      "text/plain": [
       "      Year  ALL_50_full  LD_050  DML_050  ALL_050  LD_075  DML_075  ALL_075  \\\n",
       "0     1000       278.66     NaN      NaN      NaN     NaN      NaN      NaN   \n",
       "1     1001       278.68     NaN      NaN      NaN     NaN      NaN      NaN   \n",
       "2     1002       278.69     NaN      NaN      NaN     NaN      NaN      NaN   \n",
       "3     1003       278.71     NaN      NaN      NaN     NaN      NaN      NaN   \n",
       "4     1004       278.72     NaN      NaN      NaN     NaN      NaN      NaN   \n",
       "...    ...          ...     ...      ...      ...     ...      ...      ...   \n",
       "1000  2000       366.40     NaN      NaN      NaN     NaN      NaN      NaN   \n",
       "1001  2001       368.03     NaN      NaN      NaN     NaN      NaN      NaN   \n",
       "1002  2002       369.66     NaN      NaN      NaN     NaN      NaN      NaN   \n",
       "1003  2003       371.30     NaN      NaN      NaN     NaN      NaN      NaN   \n",
       "1004  2004       372.93     NaN      NaN      NaN     NaN      NaN      NaN   \n",
       "\n",
       "      LD_100  DML_100  ...  ALL_125  LD_150  DML_150  ALL_150  LD_175  \\\n",
       "0        NaN      NaN  ...      NaN     NaN      NaN      NaN     NaN   \n",
       "1        NaN      NaN  ...      NaN     NaN      NaN      NaN     NaN   \n",
       "2        NaN      NaN  ...      NaN     NaN      NaN      NaN     NaN   \n",
       "3        NaN      NaN  ...      NaN     NaN      NaN      NaN     NaN   \n",
       "4        NaN      NaN  ...      NaN     NaN      NaN      NaN     NaN   \n",
       "...      ...      ...  ...      ...     ...      ...      ...     ...   \n",
       "1000     NaN      NaN  ...      NaN     NaN      NaN      NaN     NaN   \n",
       "1001     NaN      NaN  ...      NaN     NaN      NaN      NaN     NaN   \n",
       "1002     NaN      NaN  ...      NaN     NaN      NaN      NaN     NaN   \n",
       "1003     NaN      NaN  ...      NaN     NaN      NaN      NaN     NaN   \n",
       "1004     NaN      NaN  ...      NaN     NaN      NaN      NaN     NaN   \n",
       "\n",
       "      DML_175  ALL_175  LD_200  DML_200  ALL_200  \n",
       "0         NaN      NaN     NaN      NaN      NaN  \n",
       "1         NaN      NaN     NaN      NaN      NaN  \n",
       "2         NaN      NaN     NaN      NaN      NaN  \n",
       "3         NaN      NaN     NaN      NaN      NaN  \n",
       "4         NaN      NaN     NaN      NaN      NaN  \n",
       "...       ...      ...     ...      ...      ...  \n",
       "1000      NaN      NaN     NaN      NaN      NaN  \n",
       "1001      NaN      NaN     NaN      NaN      NaN  \n",
       "1002      NaN      NaN     NaN      NaN      NaN  \n",
       "1003      NaN      NaN     NaN      NaN      NaN  \n",
       "1004      NaN      NaN     NaN      NaN      NaN  \n",
       "\n",
       "[1005 rows x 23 columns]"
      ]
     },
<<<<<<< HEAD
     "execution_count": 6,
=======
     "execution_count": 8,
>>>>>>> kem
     "metadata": {},
     "output_type": "execute_result"
    }
   ],
   "source": [
    "# https://www.ncei.noaa.gov/access/paleo-search/?dataTypeId=7\n",
    "# CO2 concentration from ice core samples\n",
    "# CO2 data from 1000 to 2004\n",
    "\n",
    "file = \"smoothedco2.csv\"\n",
    "\n",
    "# Read the  csv and store into Pandas DataFrame\n",
    "ice_co2_df = pd.read_csv(file, encoding=\"utf-8\")\n",
    "ice_co2_df"
   ]
  },
  {
   "cell_type": "code",
<<<<<<< HEAD
   "execution_count": 7,
=======
   "execution_count": 9,
>>>>>>> kem
   "id": "77704080-37ed-4ed3-a2d0-0c9c04f5baaf",
   "metadata": {},
   "outputs": [
    {
     "data": {
      "text/html": [
       "<div>\n",
       "<style scoped>\n",
       "    .dataframe tbody tr th:only-of-type {\n",
       "        vertical-align: middle;\n",
       "    }\n",
       "\n",
       "    .dataframe tbody tr th {\n",
       "        vertical-align: top;\n",
       "    }\n",
       "\n",
       "    .dataframe thead th {\n",
       "        text-align: right;\n",
       "    }\n",
       "</style>\n",
       "<table border=\"1\" class=\"dataframe\">\n",
       "  <thead>\n",
       "    <tr style=\"text-align: right;\">\n",
       "      <th></th>\n",
       "      <th>Year</th>\n",
       "      <th>CO2(ppm)</th>\n",
       "    </tr>\n",
       "  </thead>\n",
       "  <tbody>\n",
       "    <tr>\n",
       "      <th>0</th>\n",
       "      <td>1000</td>\n",
       "      <td>278.66</td>\n",
       "    </tr>\n",
       "    <tr>\n",
       "      <th>1</th>\n",
       "      <td>1001</td>\n",
       "      <td>278.68</td>\n",
       "    </tr>\n",
       "    <tr>\n",
       "      <th>2</th>\n",
       "      <td>1002</td>\n",
       "      <td>278.69</td>\n",
       "    </tr>\n",
       "    <tr>\n",
       "      <th>3</th>\n",
       "      <td>1003</td>\n",
       "      <td>278.71</td>\n",
       "    </tr>\n",
       "    <tr>\n",
       "      <th>4</th>\n",
       "      <td>1004</td>\n",
       "      <td>278.72</td>\n",
       "    </tr>\n",
       "    <tr>\n",
       "      <th>...</th>\n",
       "      <td>...</td>\n",
       "      <td>...</td>\n",
       "    </tr>\n",
       "    <tr>\n",
       "      <th>1000</th>\n",
       "      <td>2000</td>\n",
       "      <td>366.40</td>\n",
       "    </tr>\n",
       "    <tr>\n",
       "      <th>1001</th>\n",
       "      <td>2001</td>\n",
       "      <td>368.03</td>\n",
       "    </tr>\n",
       "    <tr>\n",
       "      <th>1002</th>\n",
       "      <td>2002</td>\n",
       "      <td>369.66</td>\n",
       "    </tr>\n",
       "    <tr>\n",
       "      <th>1003</th>\n",
       "      <td>2003</td>\n",
       "      <td>371.30</td>\n",
       "    </tr>\n",
       "    <tr>\n",
       "      <th>1004</th>\n",
       "      <td>2004</td>\n",
       "      <td>372.93</td>\n",
       "    </tr>\n",
       "  </tbody>\n",
       "</table>\n",
       "<p>1005 rows × 2 columns</p>\n",
       "</div>"
      ],
      "text/plain": [
       "      Year  CO2(ppm)\n",
       "0     1000    278.66\n",
       "1     1001    278.68\n",
       "2     1002    278.69\n",
       "3     1003    278.71\n",
       "4     1004    278.72\n",
       "...    ...       ...\n",
       "1000  2000    366.40\n",
       "1001  2001    368.03\n",
       "1002  2002    369.66\n",
       "1003  2003    371.30\n",
       "1004  2004    372.93\n",
       "\n",
       "[1005 rows x 2 columns]"
      ]
     },
<<<<<<< HEAD
     "execution_count": 7,
=======
     "execution_count": 9,
>>>>>>> kem
     "metadata": {},
     "output_type": "execute_result"
    }
   ],
   "source": [
    "ice_co2_clean_df = ice_co2_df.iloc[:,[0,1]]\n",
    "ice_co2_clean_df = ice_co2_clean_df.rename(columns={\"ALL_50_full\":\"CO2(ppm)\"})\n",
    "ice_co2_clean_df"
   ]
  },
  {
   "cell_type": "code",
<<<<<<< HEAD
   "execution_count": 8,
=======
   "execution_count": 10,
>>>>>>> kem
   "id": "2694981e-67df-4e55-afd7-880926d01504",
   "metadata": {
    "tags": []
   },
   "outputs": [],
   "source": [
    "# Show data types for all columns \n",
    "# ice_co2_clean_df.dtypes\n"
   ]
  },
  {
   "cell_type": "code",
<<<<<<< HEAD
   "execution_count": 9,
=======
   "execution_count": 11,
>>>>>>> kem
   "id": "d4b65fd6-ba2b-4f54-a1c6-510e1826966b",
   "metadata": {
    "scrolled": true,
    "tags": []
   },
   "outputs": [
    {
     "data": {
      "text/html": [
       "<div>\n",
       "<style scoped>\n",
       "    .dataframe tbody tr th:only-of-type {\n",
       "        vertical-align: middle;\n",
       "    }\n",
       "\n",
       "    .dataframe tbody tr th {\n",
       "        vertical-align: top;\n",
       "    }\n",
       "\n",
       "    .dataframe thead th {\n",
       "        text-align: right;\n",
       "    }\n",
       "</style>\n",
       "<table border=\"1\" class=\"dataframe\">\n",
       "  <thead>\n",
       "    <tr style=\"text-align: right;\">\n",
       "      <th></th>\n",
       "      <th>Year</th>\n",
       "      <th>CO2(ppm)_x</th>\n",
       "      <th>CO2(ppm)_y</th>\n",
       "    </tr>\n",
       "  </thead>\n",
       "  <tbody>\n",
       "    <tr>\n",
       "      <th>0</th>\n",
       "      <td>1000</td>\n",
       "      <td>NaN</td>\n",
       "      <td>278.66</td>\n",
       "    </tr>\n",
       "    <tr>\n",
       "      <th>1</th>\n",
       "      <td>1001</td>\n",
       "      <td>NaN</td>\n",
       "      <td>278.68</td>\n",
       "    </tr>\n",
       "    <tr>\n",
       "      <th>2</th>\n",
       "      <td>1002</td>\n",
       "      <td>NaN</td>\n",
       "      <td>278.69</td>\n",
       "    </tr>\n",
       "    <tr>\n",
       "      <th>3</th>\n",
       "      <td>1003</td>\n",
       "      <td>NaN</td>\n",
       "      <td>278.71</td>\n",
       "    </tr>\n",
       "    <tr>\n",
       "      <th>4</th>\n",
       "      <td>1004</td>\n",
       "      <td>NaN</td>\n",
       "      <td>278.72</td>\n",
       "    </tr>\n",
       "    <tr>\n",
       "      <th>...</th>\n",
       "      <td>...</td>\n",
       "      <td>...</td>\n",
       "      <td>...</td>\n",
       "    </tr>\n",
       "    <tr>\n",
       "      <th>1016</th>\n",
       "      <td>2016</td>\n",
       "      <td>404.41</td>\n",
       "      <td>NaN</td>\n",
       "    </tr>\n",
       "    <tr>\n",
       "      <th>1017</th>\n",
       "      <td>2017</td>\n",
       "      <td>406.76</td>\n",
       "      <td>NaN</td>\n",
       "    </tr>\n",
       "    <tr>\n",
       "      <th>1018</th>\n",
       "      <td>2018</td>\n",
       "      <td>408.72</td>\n",
       "      <td>NaN</td>\n",
       "    </tr>\n",
       "    <tr>\n",
       "      <th>1019</th>\n",
       "      <td>2019</td>\n",
       "      <td>411.66</td>\n",
       "      <td>NaN</td>\n",
       "    </tr>\n",
       "    <tr>\n",
       "      <th>1020</th>\n",
       "      <td>2020</td>\n",
       "      <td>414.24</td>\n",
       "      <td>NaN</td>\n",
       "    </tr>\n",
       "  </tbody>\n",
       "</table>\n",
       "<p>1021 rows × 3 columns</p>\n",
       "</div>"
      ],
      "text/plain": [
       "      Year  CO2(ppm)_x  CO2(ppm)_y\n",
       "0     1000         NaN      278.66\n",
       "1     1001         NaN      278.68\n",
       "2     1002         NaN      278.69\n",
       "3     1003         NaN      278.71\n",
       "4     1004         NaN      278.72\n",
       "...    ...         ...         ...\n",
       "1016  2016      404.41         NaN\n",
       "1017  2017      406.76         NaN\n",
       "1018  2018      408.72         NaN\n",
       "1019  2019      411.66         NaN\n",
       "1020  2020      414.24         NaN\n",
       "\n",
       "[1021 rows x 3 columns]"
      ]
     },
<<<<<<< HEAD
     "execution_count": 9,
=======
     "execution_count": 11,
>>>>>>> kem
     "metadata": {},
     "output_type": "execute_result"
    }
   ],
   "source": [
    "co2_merge = pd.merge(co2_clean_df,ice_co2_clean_df,how='outer',on='Year')\n",
    "co2_merge = co2_merge.sort_values(by=[\"Year\"])\n",
    "\n",
    "co2_merge.reset_index(inplace=True) # data1.reset_index(inplace=True)\n",
    "co2_merge = co2_merge.iloc[:,[1,2,3]]\n",
    "\n",
    "co2_merge.head(2000)"
   ]
  },
  {
   "cell_type": "code",
<<<<<<< HEAD
   "execution_count": 10,
=======
   "execution_count": 12,
>>>>>>> kem
   "id": "2184b089-00e3-449b-9dc6-9928f7997e7c",
   "metadata": {},
   "outputs": [
    {
     "data": {
      "text/html": [
       "<div>\n",
       "<style scoped>\n",
       "    .dataframe tbody tr th:only-of-type {\n",
       "        vertical-align: middle;\n",
       "    }\n",
       "\n",
       "    .dataframe tbody tr th {\n",
       "        vertical-align: top;\n",
       "    }\n",
       "\n",
       "    .dataframe thead th {\n",
       "        text-align: right;\n",
       "    }\n",
       "</style>\n",
       "<table border=\"1\" class=\"dataframe\">\n",
       "  <thead>\n",
       "    <tr style=\"text-align: right;\">\n",
       "      <th></th>\n",
       "      <th>Year</th>\n",
       "      <th>CO2(ppm)</th>\n",
       "    </tr>\n",
       "  </thead>\n",
       "  <tbody>\n",
       "    <tr>\n",
       "      <th>0</th>\n",
       "      <td>1000</td>\n",
       "      <td>278.66</td>\n",
       "    </tr>\n",
       "    <tr>\n",
       "      <th>1</th>\n",
       "      <td>1001</td>\n",
       "      <td>278.68</td>\n",
       "    </tr>\n",
       "    <tr>\n",
       "      <th>2</th>\n",
       "      <td>1002</td>\n",
       "      <td>278.69</td>\n",
       "    </tr>\n",
       "    <tr>\n",
       "      <th>3</th>\n",
       "      <td>1003</td>\n",
       "      <td>278.71</td>\n",
       "    </tr>\n",
       "    <tr>\n",
       "      <th>4</th>\n",
       "      <td>1004</td>\n",
       "      <td>278.72</td>\n",
       "    </tr>\n",
       "    <tr>\n",
       "      <th>...</th>\n",
       "      <td>...</td>\n",
       "      <td>...</td>\n",
       "    </tr>\n",
       "    <tr>\n",
       "      <th>1016</th>\n",
       "      <td>2016</td>\n",
       "      <td>404.41</td>\n",
       "    </tr>\n",
       "    <tr>\n",
       "      <th>1017</th>\n",
       "      <td>2017</td>\n",
       "      <td>406.76</td>\n",
       "    </tr>\n",
       "    <tr>\n",
       "      <th>1018</th>\n",
       "      <td>2018</td>\n",
       "      <td>408.72</td>\n",
       "    </tr>\n",
       "    <tr>\n",
       "      <th>1019</th>\n",
       "      <td>2019</td>\n",
       "      <td>411.66</td>\n",
       "    </tr>\n",
       "    <tr>\n",
       "      <th>1020</th>\n",
       "      <td>2020</td>\n",
       "      <td>414.24</td>\n",
       "    </tr>\n",
       "  </tbody>\n",
       "</table>\n",
       "<p>1021 rows × 2 columns</p>\n",
       "</div>"
      ],
      "text/plain": [
       "      Year  CO2(ppm)\n",
       "0     1000    278.66\n",
       "1     1001    278.68\n",
       "2     1002    278.69\n",
       "3     1003    278.71\n",
       "4     1004    278.72\n",
       "...    ...       ...\n",
       "1016  2016    404.41\n",
       "1017  2017    406.76\n",
       "1018  2018    408.72\n",
       "1019  2019    411.66\n",
       "1020  2020    414.24\n",
       "\n",
       "[1021 rows x 2 columns]"
      ]
     },
<<<<<<< HEAD
     "execution_count": 10,
=======
     "execution_count": 12,
>>>>>>> kem
     "metadata": {},
     "output_type": "execute_result"
    }
   ],
   "source": [
    "# Average CO2 Values when 2 values exist for a given year\n",
    "co2_merge[\"CO2(ppm)\"] = co2_merge[['CO2(ppm)_x', 'CO2(ppm)_y']].mean(axis=1)\n",
    "co2_merge = co2_merge.iloc[:,[0,3]]\n",
    "co2_merge\n"
   ]
  },
  {
   "cell_type": "code",
<<<<<<< HEAD
   "execution_count": 11,
=======
   "execution_count": 13,
>>>>>>> kem
   "id": "ba860959-ff69-462b-83b2-497f46a01ee9",
   "metadata": {},
   "outputs": [
    {
     "data": {
      "text/html": [
       "<div>\n",
       "<style scoped>\n",
       "    .dataframe tbody tr th:only-of-type {\n",
       "        vertical-align: middle;\n",
       "    }\n",
       "\n",
       "    .dataframe tbody tr th {\n",
       "        vertical-align: top;\n",
       "    }\n",
       "\n",
       "    .dataframe thead th {\n",
       "        text-align: right;\n",
       "    }\n",
       "</style>\n",
       "<table border=\"1\" class=\"dataframe\">\n",
       "  <thead>\n",
       "    <tr style=\"text-align: right;\">\n",
       "      <th></th>\n",
       "      <th>dt</th>\n",
       "      <th>LandAverageTemperature</th>\n",
       "      <th>LandAverageTemperatureUncertainty</th>\n",
       "      <th>LandMaxTemperature</th>\n",
       "      <th>LandMaxTemperatureUncertainty</th>\n",
       "      <th>LandMinTemperature</th>\n",
       "      <th>LandMinTemperatureUncertainty</th>\n",
       "      <th>LandAndOceanAverageTemperature</th>\n",
       "      <th>LandAndOceanAverageTemperatureUncertainty</th>\n",
       "    </tr>\n",
       "  </thead>\n",
       "  <tbody>\n",
       "    <tr>\n",
       "      <th>0</th>\n",
       "      <td>1750-01-01</td>\n",
       "      <td>3.034</td>\n",
       "      <td>3.574</td>\n",
       "      <td>NaN</td>\n",
       "      <td>NaN</td>\n",
       "      <td>NaN</td>\n",
       "      <td>NaN</td>\n",
       "      <td>NaN</td>\n",
       "      <td>NaN</td>\n",
       "    </tr>\n",
       "    <tr>\n",
       "      <th>1</th>\n",
       "      <td>1750-02-01</td>\n",
       "      <td>3.083</td>\n",
       "      <td>3.702</td>\n",
       "      <td>NaN</td>\n",
       "      <td>NaN</td>\n",
       "      <td>NaN</td>\n",
       "      <td>NaN</td>\n",
       "      <td>NaN</td>\n",
       "      <td>NaN</td>\n",
       "    </tr>\n",
       "    <tr>\n",
       "      <th>2</th>\n",
       "      <td>1750-03-01</td>\n",
       "      <td>5.626</td>\n",
       "      <td>3.076</td>\n",
       "      <td>NaN</td>\n",
       "      <td>NaN</td>\n",
       "      <td>NaN</td>\n",
       "      <td>NaN</td>\n",
       "      <td>NaN</td>\n",
       "      <td>NaN</td>\n",
       "    </tr>\n",
       "    <tr>\n",
       "      <th>3</th>\n",
       "      <td>1750-04-01</td>\n",
       "      <td>8.490</td>\n",
       "      <td>2.451</td>\n",
       "      <td>NaN</td>\n",
       "      <td>NaN</td>\n",
       "      <td>NaN</td>\n",
       "      <td>NaN</td>\n",
       "      <td>NaN</td>\n",
       "      <td>NaN</td>\n",
       "    </tr>\n",
       "    <tr>\n",
       "      <th>4</th>\n",
       "      <td>1750-05-01</td>\n",
       "      <td>11.573</td>\n",
       "      <td>2.072</td>\n",
       "      <td>NaN</td>\n",
       "      <td>NaN</td>\n",
       "      <td>NaN</td>\n",
       "      <td>NaN</td>\n",
       "      <td>NaN</td>\n",
       "      <td>NaN</td>\n",
       "    </tr>\n",
       "    <tr>\n",
       "      <th>...</th>\n",
       "      <td>...</td>\n",
       "      <td>...</td>\n",
       "      <td>...</td>\n",
       "      <td>...</td>\n",
       "      <td>...</td>\n",
       "      <td>...</td>\n",
       "      <td>...</td>\n",
       "      <td>...</td>\n",
       "      <td>...</td>\n",
       "    </tr>\n",
       "    <tr>\n",
       "      <th>3187</th>\n",
       "      <td>2015-08-01</td>\n",
       "      <td>14.755</td>\n",
       "      <td>0.072</td>\n",
       "      <td>20.699</td>\n",
       "      <td>0.110</td>\n",
       "      <td>9.005</td>\n",
       "      <td>0.170</td>\n",
       "      <td>17.589</td>\n",
       "      <td>0.057</td>\n",
       "    </tr>\n",
       "    <tr>\n",
       "      <th>3188</th>\n",
       "      <td>2015-09-01</td>\n",
       "      <td>12.999</td>\n",
       "      <td>0.079</td>\n",
       "      <td>18.845</td>\n",
       "      <td>0.088</td>\n",
       "      <td>7.199</td>\n",
       "      <td>0.229</td>\n",
       "      <td>17.049</td>\n",
       "      <td>0.058</td>\n",
       "    </tr>\n",
       "    <tr>\n",
       "      <th>3189</th>\n",
       "      <td>2015-10-01</td>\n",
       "      <td>10.801</td>\n",
       "      <td>0.102</td>\n",
       "      <td>16.450</td>\n",
       "      <td>0.059</td>\n",
       "      <td>5.232</td>\n",
       "      <td>0.115</td>\n",
       "      <td>16.290</td>\n",
       "      <td>0.062</td>\n",
       "    </tr>\n",
       "    <tr>\n",
       "      <th>3190</th>\n",
       "      <td>2015-11-01</td>\n",
       "      <td>7.433</td>\n",
       "      <td>0.119</td>\n",
       "      <td>12.892</td>\n",
       "      <td>0.093</td>\n",
       "      <td>2.157</td>\n",
       "      <td>0.106</td>\n",
       "      <td>15.252</td>\n",
       "      <td>0.063</td>\n",
       "    </tr>\n",
       "    <tr>\n",
       "      <th>3191</th>\n",
       "      <td>2015-12-01</td>\n",
       "      <td>5.518</td>\n",
       "      <td>0.100</td>\n",
       "      <td>10.725</td>\n",
       "      <td>0.154</td>\n",
       "      <td>0.287</td>\n",
       "      <td>0.099</td>\n",
       "      <td>14.774</td>\n",
       "      <td>0.062</td>\n",
       "    </tr>\n",
       "  </tbody>\n",
       "</table>\n",
       "<p>3192 rows × 9 columns</p>\n",
       "</div>"
      ],
      "text/plain": [
       "              dt  LandAverageTemperature  LandAverageTemperatureUncertainty  \\\n",
       "0     1750-01-01                   3.034                              3.574   \n",
       "1     1750-02-01                   3.083                              3.702   \n",
       "2     1750-03-01                   5.626                              3.076   \n",
       "3     1750-04-01                   8.490                              2.451   \n",
       "4     1750-05-01                  11.573                              2.072   \n",
       "...          ...                     ...                                ...   \n",
       "3187  2015-08-01                  14.755                              0.072   \n",
       "3188  2015-09-01                  12.999                              0.079   \n",
       "3189  2015-10-01                  10.801                              0.102   \n",
       "3190  2015-11-01                   7.433                              0.119   \n",
       "3191  2015-12-01                   5.518                              0.100   \n",
       "\n",
       "      LandMaxTemperature  LandMaxTemperatureUncertainty  LandMinTemperature  \\\n",
       "0                    NaN                            NaN                 NaN   \n",
       "1                    NaN                            NaN                 NaN   \n",
       "2                    NaN                            NaN                 NaN   \n",
       "3                    NaN                            NaN                 NaN   \n",
       "4                    NaN                            NaN                 NaN   \n",
       "...                  ...                            ...                 ...   \n",
       "3187              20.699                          0.110               9.005   \n",
       "3188              18.845                          0.088               7.199   \n",
       "3189              16.450                          0.059               5.232   \n",
       "3190              12.892                          0.093               2.157   \n",
       "3191              10.725                          0.154               0.287   \n",
       "\n",
       "      LandMinTemperatureUncertainty  LandAndOceanAverageTemperature  \\\n",
       "0                               NaN                             NaN   \n",
       "1                               NaN                             NaN   \n",
       "2                               NaN                             NaN   \n",
       "3                               NaN                             NaN   \n",
       "4                               NaN                             NaN   \n",
       "...                             ...                             ...   \n",
       "3187                          0.170                          17.589   \n",
       "3188                          0.229                          17.049   \n",
       "3189                          0.115                          16.290   \n",
       "3190                          0.106                          15.252   \n",
       "3191                          0.099                          14.774   \n",
       "\n",
       "      LandAndOceanAverageTemperatureUncertainty  \n",
       "0                                           NaN  \n",
       "1                                           NaN  \n",
       "2                                           NaN  \n",
       "3                                           NaN  \n",
       "4                                           NaN  \n",
       "...                                         ...  \n",
       "3187                                      0.057  \n",
       "3188                                      0.058  \n",
       "3189                                      0.062  \n",
       "3190                                      0.063  \n",
       "3191                                      0.062  \n",
       "\n",
       "[3192 rows x 9 columns]"
      ]
     },
<<<<<<< HEAD
     "execution_count": 11,
=======
     "execution_count": 13,
>>>>>>> kem
     "metadata": {},
     "output_type": "execute_result"
    }
   ],
   "source": [
    "# https://www.kaggle.com/berkeleyearth/climate-change-earth-surface-temperature-data\n",
    "# Global Ave Temp data from 1750 to 2004\n",
    "\n",
    "file = \"GlobalTemperatures.csv\"\n",
    "\n",
    "# Read the  csv and store into Pandas DataFrame\n",
    "temp_df = pd.read_csv(file, encoding=\"utf-8\")\n",
    "temp_df"
   ]
  },
  {
   "cell_type": "code",
<<<<<<< HEAD
   "execution_count": 12,
=======
   "execution_count": 14,
>>>>>>> kem
   "id": "db3d3b42-4552-4711-b41f-a0047aa170b5",
   "metadata": {},
   "outputs": [
    {
     "data": {
      "text/html": [
       "<div>\n",
       "<style scoped>\n",
       "    .dataframe tbody tr th:only-of-type {\n",
       "        vertical-align: middle;\n",
       "    }\n",
       "\n",
       "    .dataframe tbody tr th {\n",
       "        vertical-align: top;\n",
       "    }\n",
       "\n",
       "    .dataframe thead th {\n",
       "        text-align: right;\n",
       "    }\n",
       "</style>\n",
       "<table border=\"1\" class=\"dataframe\">\n",
       "  <thead>\n",
       "    <tr style=\"text-align: right;\">\n",
       "      <th></th>\n",
       "      <th>Year</th>\n",
       "      <th>Temp</th>\n",
       "    </tr>\n",
       "  </thead>\n",
       "  <tbody>\n",
       "    <tr>\n",
       "      <th>0</th>\n",
       "      <td>1750</td>\n",
       "      <td>3.034</td>\n",
       "    </tr>\n",
       "    <tr>\n",
       "      <th>1</th>\n",
       "      <td>1750</td>\n",
       "      <td>3.083</td>\n",
       "    </tr>\n",
       "    <tr>\n",
       "      <th>2</th>\n",
       "      <td>1750</td>\n",
       "      <td>5.626</td>\n",
       "    </tr>\n",
       "    <tr>\n",
       "      <th>3</th>\n",
       "      <td>1750</td>\n",
       "      <td>8.490</td>\n",
       "    </tr>\n",
       "    <tr>\n",
       "      <th>4</th>\n",
       "      <td>1750</td>\n",
       "      <td>11.573</td>\n",
       "    </tr>\n",
       "    <tr>\n",
       "      <th>...</th>\n",
       "      <td>...</td>\n",
       "      <td>...</td>\n",
       "    </tr>\n",
       "    <tr>\n",
       "      <th>3187</th>\n",
       "      <td>2015</td>\n",
       "      <td>14.755</td>\n",
       "    </tr>\n",
       "    <tr>\n",
       "      <th>3188</th>\n",
       "      <td>2015</td>\n",
       "      <td>12.999</td>\n",
       "    </tr>\n",
       "    <tr>\n",
       "      <th>3189</th>\n",
       "      <td>2015</td>\n",
       "      <td>10.801</td>\n",
       "    </tr>\n",
       "    <tr>\n",
       "      <th>3190</th>\n",
       "      <td>2015</td>\n",
       "      <td>7.433</td>\n",
       "    </tr>\n",
       "    <tr>\n",
       "      <th>3191</th>\n",
       "      <td>2015</td>\n",
       "      <td>5.518</td>\n",
       "    </tr>\n",
       "  </tbody>\n",
       "</table>\n",
       "<p>3192 rows × 2 columns</p>\n",
       "</div>"
      ],
      "text/plain": [
       "      Year    Temp\n",
       "0     1750   3.034\n",
       "1     1750   3.083\n",
       "2     1750   5.626\n",
       "3     1750   8.490\n",
       "4     1750  11.573\n",
       "...    ...     ...\n",
       "3187  2015  14.755\n",
       "3188  2015  12.999\n",
       "3189  2015  10.801\n",
       "3190  2015   7.433\n",
       "3191  2015   5.518\n",
       "\n",
       "[3192 rows x 2 columns]"
      ]
     },
<<<<<<< HEAD
     "execution_count": 12,
=======
     "execution_count": 14,
>>>>>>> kem
     "metadata": {},
     "output_type": "execute_result"
    }
   ],
   "source": [
    "temp_df['Year'] = temp_df['dt'].str[:4]\n",
    "temp_df = temp_df.rename(columns={\"LandAverageTemperature\":\"Temp\"})\n",
    "# temp_df\n",
    "temp_df = temp_df.loc[:,[\"Year\",\"Temp\"]]\n",
    "temp_df"
   ]
  },
  {
   "cell_type": "code",
<<<<<<< HEAD
   "execution_count": 13,
=======
   "execution_count": 15,
>>>>>>> kem
   "id": "5f801079-3905-4b3d-bfd7-95f121754da5",
   "metadata": {
    "tags": []
   },
   "outputs": [
    {
     "data": {
      "text/html": [
       "<div>\n",
       "<style scoped>\n",
       "    .dataframe tbody tr th:only-of-type {\n",
       "        vertical-align: middle;\n",
       "    }\n",
       "\n",
       "    .dataframe tbody tr th {\n",
       "        vertical-align: top;\n",
       "    }\n",
       "\n",
       "    .dataframe thead th {\n",
       "        text-align: right;\n",
       "    }\n",
       "</style>\n",
       "<table border=\"1\" class=\"dataframe\">\n",
       "  <thead>\n",
       "    <tr style=\"text-align: right;\">\n",
       "      <th></th>\n",
       "      <th>Year</th>\n",
       "      <th>Temp</th>\n",
       "    </tr>\n",
       "  </thead>\n",
       "  <tbody>\n",
       "    <tr>\n",
       "      <th>0</th>\n",
       "      <td>1750</td>\n",
       "      <td>8.719364</td>\n",
       "    </tr>\n",
       "    <tr>\n",
       "      <th>1</th>\n",
       "      <td>1751</td>\n",
       "      <td>7.976143</td>\n",
       "    </tr>\n",
       "    <tr>\n",
       "      <th>2</th>\n",
       "      <td>1752</td>\n",
       "      <td>5.779833</td>\n",
       "    </tr>\n",
       "    <tr>\n",
       "      <th>3</th>\n",
       "      <td>1753</td>\n",
       "      <td>8.388083</td>\n",
       "    </tr>\n",
       "    <tr>\n",
       "      <th>4</th>\n",
       "      <td>1754</td>\n",
       "      <td>8.469333</td>\n",
       "    </tr>\n",
       "    <tr>\n",
       "      <th>...</th>\n",
       "      <td>...</td>\n",
       "      <td>...</td>\n",
       "    </tr>\n",
       "    <tr>\n",
       "      <th>261</th>\n",
       "      <td>2011</td>\n",
       "      <td>9.516000</td>\n",
       "    </tr>\n",
       "    <tr>\n",
       "      <th>262</th>\n",
       "      <td>2012</td>\n",
       "      <td>9.507333</td>\n",
       "    </tr>\n",
       "    <tr>\n",
       "      <th>263</th>\n",
       "      <td>2013</td>\n",
       "      <td>9.606500</td>\n",
       "    </tr>\n",
       "    <tr>\n",
       "      <th>264</th>\n",
       "      <td>2014</td>\n",
       "      <td>9.570667</td>\n",
       "    </tr>\n",
       "    <tr>\n",
       "      <th>265</th>\n",
       "      <td>2015</td>\n",
       "      <td>9.831000</td>\n",
       "    </tr>\n",
       "  </tbody>\n",
       "</table>\n",
       "<p>266 rows × 2 columns</p>\n",
       "</div>"
      ],
      "text/plain": [
       "     Year      Temp\n",
       "0    1750  8.719364\n",
       "1    1751  7.976143\n",
       "2    1752  5.779833\n",
       "3    1753  8.388083\n",
       "4    1754  8.469333\n",
       "..    ...       ...\n",
       "261  2011  9.516000\n",
       "262  2012  9.507333\n",
       "263  2013  9.606500\n",
       "264  2014  9.570667\n",
       "265  2015  9.831000\n",
       "\n",
       "[266 rows x 2 columns]"
      ]
     },
<<<<<<< HEAD
     "execution_count": 13,
=======
     "execution_count": 15,
>>>>>>> kem
     "metadata": {},
     "output_type": "execute_result"
    }
   ],
   "source": [
    "# Dataset is monthly (note I stripped the months and only left the year).  \n",
    "# Average Temp by year\n",
    "annual_temp=temp_df.groupby('Year').mean()\n",
    "annual_temp.reset_index(inplace=True)\n",
    "annual_temp"
   ]
  },
  {
   "cell_type": "code",
<<<<<<< HEAD
   "execution_count": 14,
=======
   "execution_count": 16,
>>>>>>> kem
   "id": "d4760342-6461-4b32-8ffc-9216260f0571",
   "metadata": {},
   "outputs": [
    {
     "data": {
      "text/plain": [
       "Year      int64\n",
       "Temp    float64\n",
       "dtype: object"
      ]
     },
<<<<<<< HEAD
     "execution_count": 14,
=======
     "execution_count": 16,
>>>>>>> kem
     "metadata": {},
     "output_type": "execute_result"
    }
   ],
   "source": [
    "# ice_co2_clean_df.dtypes\n",
    "annual_temp['Year'] = annual_temp.loc[:,'Year'].astype(int)\n",
    "co2_merge.dtypes\n",
    "annual_temp.dtypes\n"
   ]
  },
  {
   "cell_type": "code",
<<<<<<< HEAD
   "execution_count": 15,
=======
   "execution_count": 17,
>>>>>>> kem
   "id": "ea39e495-f210-4f1f-b66f-8b21d3685d79",
   "metadata": {},
   "outputs": [
    {
     "data": {
      "text/html": [
       "<div>\n",
       "<style scoped>\n",
       "    .dataframe tbody tr th:only-of-type {\n",
       "        vertical-align: middle;\n",
       "    }\n",
       "\n",
       "    .dataframe tbody tr th {\n",
       "        vertical-align: top;\n",
       "    }\n",
       "\n",
       "    .dataframe thead th {\n",
       "        text-align: right;\n",
       "    }\n",
       "</style>\n",
       "<table border=\"1\" class=\"dataframe\">\n",
       "  <thead>\n",
       "    <tr style=\"text-align: right;\">\n",
       "      <th></th>\n",
       "      <th>Year</th>\n",
       "      <th>CO2(ppm)</th>\n",
       "      <th>Temp</th>\n",
       "    </tr>\n",
       "  </thead>\n",
       "  <tbody>\n",
       "    <tr>\n",
       "      <th>0</th>\n",
       "      <td>1750</td>\n",
       "      <td>277.03</td>\n",
       "      <td>8.719364</td>\n",
       "    </tr>\n",
       "    <tr>\n",
       "      <th>1</th>\n",
       "      <td>1751</td>\n",
       "      <td>277.02</td>\n",
       "      <td>7.976143</td>\n",
       "    </tr>\n",
       "    <tr>\n",
       "      <th>2</th>\n",
       "      <td>1752</td>\n",
       "      <td>277.00</td>\n",
       "      <td>5.779833</td>\n",
       "    </tr>\n",
       "    <tr>\n",
       "      <th>3</th>\n",
       "      <td>1753</td>\n",
       "      <td>276.99</td>\n",
       "      <td>8.388083</td>\n",
       "    </tr>\n",
       "    <tr>\n",
       "      <th>4</th>\n",
       "      <td>1754</td>\n",
       "      <td>276.99</td>\n",
       "      <td>8.469333</td>\n",
       "    </tr>\n",
       "    <tr>\n",
       "      <th>...</th>\n",
       "      <td>...</td>\n",
       "      <td>...</td>\n",
       "      <td>...</td>\n",
       "    </tr>\n",
       "    <tr>\n",
       "      <th>261</th>\n",
       "      <td>2011</td>\n",
       "      <td>391.85</td>\n",
       "      <td>9.516000</td>\n",
       "    </tr>\n",
       "    <tr>\n",
       "      <th>262</th>\n",
       "      <td>2012</td>\n",
       "      <td>394.06</td>\n",
       "      <td>9.507333</td>\n",
       "    </tr>\n",
       "    <tr>\n",
       "      <th>263</th>\n",
       "      <td>2013</td>\n",
       "      <td>396.74</td>\n",
       "      <td>9.606500</td>\n",
       "    </tr>\n",
       "    <tr>\n",
       "      <th>264</th>\n",
       "      <td>2014</td>\n",
       "      <td>398.87</td>\n",
       "      <td>9.570667</td>\n",
       "    </tr>\n",
       "    <tr>\n",
       "      <th>265</th>\n",
       "      <td>2015</td>\n",
       "      <td>401.01</td>\n",
       "      <td>9.831000</td>\n",
       "    </tr>\n",
       "  </tbody>\n",
       "</table>\n",
       "<p>266 rows × 3 columns</p>\n",
       "</div>"
      ],
      "text/plain": [
       "     Year  CO2(ppm)      Temp\n",
       "0    1750    277.03  8.719364\n",
       "1    1751    277.02  7.976143\n",
       "2    1752    277.00  5.779833\n",
       "3    1753    276.99  8.388083\n",
       "4    1754    276.99  8.469333\n",
       "..    ...       ...       ...\n",
       "261  2011    391.85  9.516000\n",
       "262  2012    394.06  9.507333\n",
       "263  2013    396.74  9.606500\n",
       "264  2014    398.87  9.570667\n",
       "265  2015    401.01  9.831000\n",
       "\n",
       "[266 rows x 3 columns]"
      ]
     },
<<<<<<< HEAD
     "execution_count": 15,
=======
     "execution_count": 17,
>>>>>>> kem
     "metadata": {},
     "output_type": "execute_result"
    }
   ],
   "source": [
    "temp_co2 = pd.merge(co2_merge,annual_temp,how='inner',on='Year')\n",
    "temp_co2"
   ]
  },
  {
   "cell_type": "code",
<<<<<<< HEAD
   "execution_count": 16,
=======
   "execution_count": 18,
>>>>>>> kem
   "id": "8f5f3a0c-5b5b-41ee-95e8-5a806b5758a9",
   "metadata": {
    "tags": []
   },
   "outputs": [
    {
     "data": {
      "text/plain": [
       "<AxesSubplot:xlabel='Year', ylabel='Temp'>"
      ]
     },
<<<<<<< HEAD
     "execution_count": 16,
=======
     "execution_count": 18,
>>>>>>> kem
     "metadata": {},
     "output_type": "execute_result"
    },
    {
     "data": {
      "image/png": "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\n",
      "text/plain": [
       "<Figure size 432x288 with 1 Axes>"
      ]
     },
     "metadata": {
      "needs_background": "light"
     },
     "output_type": "display_data"
    }
   ],
   "source": [
    "import seaborn as sns\n",
    "sns.scatterplot(x=\"Year\",y=\"Temp\",hue=\"CO2(ppm)\",data=temp_co2)"
   ]
  },
  {
   "cell_type": "code",
<<<<<<< HEAD
   "execution_count": 17,
=======
   "execution_count": 19,
>>>>>>> kem
   "id": "c80e3a30-8478-44e1-bd6d-49d2f2d47f44",
   "metadata": {
    "tags": []
   },
   "outputs": [
    {
     "data": {
      "text/plain": [
       "<AxesSubplot:xlabel='Year', ylabel='CO2(ppm)'>"
      ]
     },
<<<<<<< HEAD
     "execution_count": 17,
=======
     "execution_count": 19,
>>>>>>> kem
     "metadata": {},
     "output_type": "execute_result"
    },
    {
     "data": {
      "image/png": "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\n",
      "text/plain": [
       "<Figure size 432x288 with 1 Axes>"
      ]
     },
     "metadata": {},
     "output_type": "display_data"
    }
   ],
   "source": [
    "import seaborn as sns\n",
    "sns.set_style(\"whitegrid\") \n",
    "sns.scatterplot(x=\"Year\",y=\"CO2(ppm)\",hue=\"Temp\",data=temp_co2)"
   ]
  },
  {
   "cell_type": "code",
<<<<<<< HEAD
   "execution_count": 18,
=======
   "execution_count": 20,
>>>>>>> kem
   "id": "55ce2265-d8fd-41fd-bcd1-7d92582aad06",
   "metadata": {},
   "outputs": [
    {
     "data": {
      "text/plain": [
       "<AxesSubplot:xlabel='CO2(ppm)', ylabel='Temp'>"
      ]
     },
<<<<<<< HEAD
     "execution_count": 18,
=======
     "execution_count": 20,
>>>>>>> kem
     "metadata": {},
     "output_type": "execute_result"
    },
    {
     "data": {
      "image/png": "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\n",
      "text/plain": [
       "<Figure size 432x288 with 1 Axes>"
      ]
     },
     "metadata": {},
     "output_type": "display_data"
    }
   ],
   "source": [
    "import seaborn as sns\n",
    "sns.scatterplot(x=\"CO2(ppm)\",y=\"Temp\",hue=\"Year\",data=temp_co2)"
   ]
  },
  {
   "cell_type": "code",
<<<<<<< HEAD
   "execution_count": 19,
=======
   "execution_count": 21,
>>>>>>> kem
   "id": "ebd81c98-ff2e-4c9d-baca-cd81ddf8e314",
   "metadata": {
    "tags": []
   },
   "outputs": [
    {
     "data": {
      "image/png": "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\n",
      "text/plain": [
       "<Figure size 432x288 with 1 Axes>"
      ]
     },
     "metadata": {},
     "output_type": "display_data"
    }
   ],
   "source": [
    "plt.scatter(temp_co2[\"CO2(ppm)\"], temp_co2[\"Temp\"], edgecolor = \"black\")\n",
    "\n",
    "plt.title(\"City Latitude vs. Cloudiness (11/29/21)\")\n",
    "plt.xlabel(\"Latitude\")\n",
    "plt.ylabel(\"Cloudiness (%)\")\n",
    "plt.grid(linestyle='-', linewidth=2, alpha=0.5)\n",
    "\n",
    "# plt.savefig(\"../output_data/City_Latitude_vs_Cloudiness.png\")"
   ]
  },
  {
   "cell_type": "code",
<<<<<<< HEAD
   "execution_count": 20,
=======
   "execution_count": 22,
>>>>>>> kem
   "id": "92e4c24b-f021-4c6b-85e1-84ff716f3c25",
   "metadata": {},
   "outputs": [
    {
     "data": {
      "text/html": [
       "<div>\n",
       "<style scoped>\n",
       "    .dataframe tbody tr th:only-of-type {\n",
       "        vertical-align: middle;\n",
       "    }\n",
       "\n",
       "    .dataframe tbody tr th {\n",
       "        vertical-align: top;\n",
       "    }\n",
       "\n",
       "    .dataframe thead th {\n",
       "        text-align: right;\n",
       "    }\n",
       "</style>\n",
       "<table border=\"1\" class=\"dataframe\">\n",
       "  <thead>\n",
       "    <tr style=\"text-align: right;\">\n",
       "      <th></th>\n",
       "      <th>Year</th>\n",
       "      <th>CO2(ppm)</th>\n",
       "      <th>Temp</th>\n",
       "    </tr>\n",
       "  </thead>\n",
       "  <tbody>\n",
       "    <tr>\n",
       "      <th>100</th>\n",
       "      <td>1850</td>\n",
       "      <td>285.77</td>\n",
       "      <td>7.900667</td>\n",
       "    </tr>\n",
       "    <tr>\n",
       "      <th>101</th>\n",
       "      <td>1851</td>\n",
       "      <td>285.86</td>\n",
       "      <td>8.178583</td>\n",
       "    </tr>\n",
       "    <tr>\n",
       "      <th>102</th>\n",
       "      <td>1852</td>\n",
       "      <td>285.96</td>\n",
       "      <td>8.100167</td>\n",
       "    </tr>\n",
       "    <tr>\n",
       "      <th>103</th>\n",
       "      <td>1853</td>\n",
       "      <td>286.05</td>\n",
       "      <td>8.041833</td>\n",
       "    </tr>\n",
       "    <tr>\n",
       "      <th>104</th>\n",
       "      <td>1854</td>\n",
       "      <td>286.14</td>\n",
       "      <td>8.210500</td>\n",
       "    </tr>\n",
       "    <tr>\n",
       "      <th>...</th>\n",
       "      <td>...</td>\n",
       "      <td>...</td>\n",
       "      <td>...</td>\n",
       "    </tr>\n",
       "    <tr>\n",
       "      <th>261</th>\n",
       "      <td>2011</td>\n",
       "      <td>391.85</td>\n",
       "      <td>9.516000</td>\n",
       "    </tr>\n",
       "    <tr>\n",
       "      <th>262</th>\n",
       "      <td>2012</td>\n",
       "      <td>394.06</td>\n",
       "      <td>9.507333</td>\n",
       "    </tr>\n",
       "    <tr>\n",
       "      <th>263</th>\n",
       "      <td>2013</td>\n",
       "      <td>396.74</td>\n",
       "      <td>9.606500</td>\n",
       "    </tr>\n",
       "    <tr>\n",
       "      <th>264</th>\n",
       "      <td>2014</td>\n",
       "      <td>398.87</td>\n",
       "      <td>9.570667</td>\n",
       "    </tr>\n",
       "    <tr>\n",
       "      <th>265</th>\n",
       "      <td>2015</td>\n",
       "      <td>401.01</td>\n",
       "      <td>9.831000</td>\n",
       "    </tr>\n",
       "  </tbody>\n",
       "</table>\n",
       "<p>166 rows × 3 columns</p>\n",
       "</div>"
      ],
      "text/plain": [
       "     Year  CO2(ppm)      Temp\n",
       "100  1850    285.77  7.900667\n",
       "101  1851    285.86  8.178583\n",
       "102  1852    285.96  8.100167\n",
       "103  1853    286.05  8.041833\n",
       "104  1854    286.14  8.210500\n",
       "..    ...       ...       ...\n",
       "261  2011    391.85  9.516000\n",
       "262  2012    394.06  9.507333\n",
       "263  2013    396.74  9.606500\n",
       "264  2014    398.87  9.570667\n",
       "265  2015    401.01  9.831000\n",
       "\n",
       "[166 rows x 3 columns]"
      ]
     },
<<<<<<< HEAD
     "execution_count": 20,
=======
     "execution_count": 22,
>>>>>>> kem
     "metadata": {},
     "output_type": "execute_result"
    }
   ],
   "source": [
    "new_temp_co2=temp_co2[temp_co2[\"Year\"]>=1850]\n",
    "new_temp_co2"
   ]
  },
  {
   "cell_type": "code",
<<<<<<< HEAD
   "execution_count": 21,
=======
   "execution_count": 23,
>>>>>>> kem
   "id": "13e329fa-c5e5-4a73-a1d6-a34eefb8441e",
   "metadata": {},
   "outputs": [
    {
     "data": {
      "text/plain": [
       "<AxesSubplot:xlabel='CO2(ppm)', ylabel='Temp'>"
      ]
     },
<<<<<<< HEAD
     "execution_count": 21,
=======
     "execution_count": 23,
>>>>>>> kem
     "metadata": {},
     "output_type": "execute_result"
    },
    {
     "data": {
      "image/png": "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\n",
      "text/plain": [
       "<Figure size 432x288 with 1 Axes>"
      ]
     },
     "metadata": {},
     "output_type": "display_data"
    }
   ],
   "source": [
    "import seaborn as sns\n",
    "sns.scatterplot(x=\"CO2(ppm)\",y=\"Temp\",hue=\"Year\",data=new_temp_co2)"
   ]
  },
  {
   "cell_type": "code",
<<<<<<< HEAD
   "execution_count": 22,
=======
   "execution_count": 24,
>>>>>>> kem
   "id": "a5ddb5b5-bddb-4119-b903-ab25e6c0ecfd",
   "metadata": {},
   "outputs": [
    {
     "data": {
      "text/html": [
       "<div>\n",
       "<style scoped>\n",
       "    .dataframe tbody tr th:only-of-type {\n",
       "        vertical-align: middle;\n",
       "    }\n",
       "\n",
       "    .dataframe tbody tr th {\n",
       "        vertical-align: top;\n",
       "    }\n",
       "\n",
       "    .dataframe thead th {\n",
       "        text-align: right;\n",
       "    }\n",
       "</style>\n",
       "<table border=\"1\" class=\"dataframe\">\n",
       "  <thead>\n",
       "    <tr style=\"text-align: right;\">\n",
       "      <th></th>\n",
       "      <th>Year</th>\n",
       "      <th>CO2(ppm)</th>\n",
       "      <th>Temp</th>\n",
       "    </tr>\n",
       "  </thead>\n",
       "  <tbody>\n",
       "    <tr>\n",
       "      <th>100</th>\n",
       "      <td>1850</td>\n",
       "      <td>285.77</td>\n",
       "      <td>7.900667</td>\n",
       "    </tr>\n",
       "    <tr>\n",
       "      <th>101</th>\n",
       "      <td>1851</td>\n",
       "      <td>285.86</td>\n",
       "      <td>8.178583</td>\n",
       "    </tr>\n",
       "    <tr>\n",
       "      <th>102</th>\n",
       "      <td>1852</td>\n",
       "      <td>285.96</td>\n",
       "      <td>8.100167</td>\n",
       "    </tr>\n",
       "    <tr>\n",
       "      <th>103</th>\n",
       "      <td>1853</td>\n",
       "      <td>286.05</td>\n",
       "      <td>8.041833</td>\n",
       "    </tr>\n",
       "    <tr>\n",
       "      <th>104</th>\n",
       "      <td>1854</td>\n",
       "      <td>286.14</td>\n",
       "      <td>8.210500</td>\n",
       "    </tr>\n",
       "    <tr>\n",
       "      <th>...</th>\n",
       "      <td>...</td>\n",
       "      <td>...</td>\n",
       "      <td>...</td>\n",
       "    </tr>\n",
       "    <tr>\n",
       "      <th>261</th>\n",
       "      <td>2011</td>\n",
       "      <td>391.85</td>\n",
       "      <td>9.516000</td>\n",
       "    </tr>\n",
       "    <tr>\n",
       "      <th>262</th>\n",
       "      <td>2012</td>\n",
       "      <td>394.06</td>\n",
       "      <td>9.507333</td>\n",
       "    </tr>\n",
       "    <tr>\n",
       "      <th>263</th>\n",
       "      <td>2013</td>\n",
       "      <td>396.74</td>\n",
       "      <td>9.606500</td>\n",
       "    </tr>\n",
       "    <tr>\n",
       "      <th>264</th>\n",
       "      <td>2014</td>\n",
       "      <td>398.87</td>\n",
       "      <td>9.570667</td>\n",
       "    </tr>\n",
       "    <tr>\n",
       "      <th>265</th>\n",
       "      <td>2015</td>\n",
       "      <td>401.01</td>\n",
       "      <td>9.831000</td>\n",
       "    </tr>\n",
       "  </tbody>\n",
       "</table>\n",
       "<p>166 rows × 3 columns</p>\n",
       "</div>"
      ],
      "text/plain": [
       "     Year  CO2(ppm)      Temp\n",
       "100  1850    285.77  7.900667\n",
       "101  1851    285.86  8.178583\n",
       "102  1852    285.96  8.100167\n",
       "103  1853    286.05  8.041833\n",
       "104  1854    286.14  8.210500\n",
       "..    ...       ...       ...\n",
       "261  2011    391.85  9.516000\n",
       "262  2012    394.06  9.507333\n",
       "263  2013    396.74  9.606500\n",
       "264  2014    398.87  9.570667\n",
       "265  2015    401.01  9.831000\n",
       "\n",
       "[166 rows x 3 columns]"
      ]
     },
<<<<<<< HEAD
     "execution_count": 22,
=======
     "execution_count": 24,
>>>>>>> kem
     "metadata": {},
     "output_type": "execute_result"
    }
   ],
   "source": [
    "new_temp_co2"
   ]
  },
  {
   "cell_type": "code",
<<<<<<< HEAD
   "execution_count": 23,
=======
   "execution_count": 25,
>>>>>>> kem
   "id": "ff565583-e999-44aa-b426-b6374f66f728",
   "metadata": {},
   "outputs": [
    {
     "data": {
      "text/html": [
       "<div>\n",
       "<style scoped>\n",
       "    .dataframe tbody tr th:only-of-type {\n",
       "        vertical-align: middle;\n",
       "    }\n",
       "\n",
       "    .dataframe tbody tr th {\n",
       "        vertical-align: top;\n",
       "    }\n",
       "\n",
       "    .dataframe thead th {\n",
       "        text-align: right;\n",
       "    }\n",
       "</style>\n",
       "<table border=\"1\" class=\"dataframe\">\n",
       "  <thead>\n",
       "    <tr style=\"text-align: right;\">\n",
       "      <th></th>\n",
       "      <th>Year</th>\n",
       "      <th>CO2(ppm)</th>\n",
       "      <th>Temp</th>\n",
       "    </tr>\n",
       "  </thead>\n",
       "  <tbody>\n",
       "    <tr>\n",
       "      <th>0</th>\n",
       "      <td>1750</td>\n",
       "      <td>277.03</td>\n",
       "      <td>8.719364</td>\n",
       "    </tr>\n",
       "    <tr>\n",
       "      <th>1</th>\n",
       "      <td>1751</td>\n",
       "      <td>277.02</td>\n",
       "      <td>7.976143</td>\n",
       "    </tr>\n",
       "    <tr>\n",
       "      <th>2</th>\n",
       "      <td>1752</td>\n",
       "      <td>277.00</td>\n",
       "      <td>5.779833</td>\n",
       "    </tr>\n",
       "    <tr>\n",
       "      <th>3</th>\n",
       "      <td>1753</td>\n",
       "      <td>276.99</td>\n",
       "      <td>8.388083</td>\n",
       "    </tr>\n",
       "    <tr>\n",
       "      <th>4</th>\n",
       "      <td>1754</td>\n",
       "      <td>276.99</td>\n",
       "      <td>8.469333</td>\n",
       "    </tr>\n",
       "    <tr>\n",
       "      <th>...</th>\n",
       "      <td>...</td>\n",
       "      <td>...</td>\n",
       "      <td>...</td>\n",
       "    </tr>\n",
       "    <tr>\n",
       "      <th>261</th>\n",
       "      <td>2011</td>\n",
       "      <td>391.85</td>\n",
       "      <td>9.516000</td>\n",
       "    </tr>\n",
       "    <tr>\n",
       "      <th>262</th>\n",
       "      <td>2012</td>\n",
       "      <td>394.06</td>\n",
       "      <td>9.507333</td>\n",
       "    </tr>\n",
       "    <tr>\n",
       "      <th>263</th>\n",
       "      <td>2013</td>\n",
       "      <td>396.74</td>\n",
       "      <td>9.606500</td>\n",
       "    </tr>\n",
       "    <tr>\n",
       "      <th>264</th>\n",
       "      <td>2014</td>\n",
       "      <td>398.87</td>\n",
       "      <td>9.570667</td>\n",
       "    </tr>\n",
       "    <tr>\n",
       "      <th>265</th>\n",
       "      <td>2015</td>\n",
       "      <td>401.01</td>\n",
       "      <td>9.831000</td>\n",
       "    </tr>\n",
       "  </tbody>\n",
       "</table>\n",
       "<p>266 rows × 3 columns</p>\n",
       "</div>"
      ],
      "text/plain": [
       "     Year  CO2(ppm)      Temp\n",
       "0    1750    277.03  8.719364\n",
       "1    1751    277.02  7.976143\n",
       "2    1752    277.00  5.779833\n",
       "3    1753    276.99  8.388083\n",
       "4    1754    276.99  8.469333\n",
       "..    ...       ...       ...\n",
       "261  2011    391.85  9.516000\n",
       "262  2012    394.06  9.507333\n",
       "263  2013    396.74  9.606500\n",
       "264  2014    398.87  9.570667\n",
       "265  2015    401.01  9.831000\n",
       "\n",
       "[266 rows x 3 columns]"
      ]
     },
<<<<<<< HEAD
     "execution_count": 23,
=======
     "execution_count": 25,
>>>>>>> kem
     "metadata": {},
     "output_type": "execute_result"
    }
   ],
   "source": [
    "t_test=temp_co2[temp_co2[\"Year\"]>=1750]\n",
    "t_test"
   ]
  },
  {
   "cell_type": "code",
<<<<<<< HEAD
   "execution_count": 24,
   "id": "63d77a67-6ab6-4acc-b521-cf0c788d24c8",
   "metadata": {},
=======
   "execution_count": 26,
   "id": "63d77a67-6ab6-4acc-b521-cf0c788d24c8",
   "metadata": {
    "collapsed": true,
    "jupyter": {
     "outputs_hidden": true
    },
    "tags": []
   },
>>>>>>> kem
   "outputs": [
    {
     "data": {
      "text/html": [
       "<div>\n",
       "<style scoped>\n",
       "    .dataframe tbody tr th:only-of-type {\n",
       "        vertical-align: middle;\n",
       "    }\n",
       "\n",
       "    .dataframe tbody tr th {\n",
       "        vertical-align: top;\n",
       "    }\n",
       "\n",
       "    .dataframe thead th {\n",
       "        text-align: right;\n",
       "    }\n",
       "</style>\n",
       "<table border=\"1\" class=\"dataframe\">\n",
       "  <thead>\n",
       "    <tr style=\"text-align: right;\">\n",
       "      <th></th>\n",
       "      <th>Year</th>\n",
       "      <th>CO2(ppm)</th>\n",
       "      <th>Temp</th>\n",
       "      <th>Delta_Temp</th>\n",
       "      <th>Delta_CO2</th>\n",
       "    </tr>\n",
       "  </thead>\n",
       "  <tbody>\n",
       "    <tr>\n",
       "      <th>0</th>\n",
       "      <td>1750</td>\n",
       "      <td>277.03</td>\n",
       "      <td>8.719364</td>\n",
       "      <td>0.000000</td>\n",
       "      <td>0.00</td>\n",
       "    </tr>\n",
       "    <tr>\n",
       "      <th>1</th>\n",
       "      <td>1751</td>\n",
       "      <td>277.02</td>\n",
       "      <td>7.976143</td>\n",
       "      <td>-0.743221</td>\n",
       "      <td>-0.01</td>\n",
       "    </tr>\n",
       "    <tr>\n",
       "      <th>2</th>\n",
       "      <td>1752</td>\n",
       "      <td>277.00</td>\n",
       "      <td>5.779833</td>\n",
       "      <td>-2.196310</td>\n",
       "      <td>-0.02</td>\n",
       "    </tr>\n",
       "    <tr>\n",
       "      <th>3</th>\n",
       "      <td>1753</td>\n",
       "      <td>276.99</td>\n",
       "      <td>8.388083</td>\n",
       "      <td>2.608250</td>\n",
       "      <td>-0.01</td>\n",
       "    </tr>\n",
       "    <tr>\n",
       "      <th>4</th>\n",
       "      <td>1754</td>\n",
       "      <td>276.99</td>\n",
       "      <td>8.469333</td>\n",
       "      <td>0.081250</td>\n",
       "      <td>0.00</td>\n",
       "    </tr>\n",
       "    <tr>\n",
       "      <th>...</th>\n",
       "      <td>...</td>\n",
       "      <td>...</td>\n",
       "      <td>...</td>\n",
       "      <td>...</td>\n",
       "      <td>...</td>\n",
       "    </tr>\n",
       "    <tr>\n",
       "      <th>261</th>\n",
       "      <td>2011</td>\n",
       "      <td>391.85</td>\n",
       "      <td>9.516000</td>\n",
       "      <td>-0.187083</td>\n",
       "      <td>1.75</td>\n",
       "    </tr>\n",
       "    <tr>\n",
       "      <th>262</th>\n",
       "      <td>2012</td>\n",
       "      <td>394.06</td>\n",
       "      <td>9.507333</td>\n",
       "      <td>-0.008667</td>\n",
       "      <td>2.21</td>\n",
       "    </tr>\n",
       "    <tr>\n",
       "      <th>263</th>\n",
       "      <td>2013</td>\n",
       "      <td>396.74</td>\n",
       "      <td>9.606500</td>\n",
       "      <td>0.099167</td>\n",
       "      <td>2.68</td>\n",
       "    </tr>\n",
       "    <tr>\n",
       "      <th>264</th>\n",
       "      <td>2014</td>\n",
       "      <td>398.87</td>\n",
       "      <td>9.570667</td>\n",
       "      <td>-0.035833</td>\n",
       "      <td>2.13</td>\n",
       "    </tr>\n",
       "    <tr>\n",
       "      <th>265</th>\n",
       "      <td>2015</td>\n",
       "      <td>401.01</td>\n",
       "      <td>9.831000</td>\n",
       "      <td>0.260333</td>\n",
       "      <td>2.14</td>\n",
       "    </tr>\n",
       "  </tbody>\n",
       "</table>\n",
       "<p>266 rows × 5 columns</p>\n",
       "</div>"
      ],
      "text/plain": [
       "     Year  CO2(ppm)      Temp  Delta_Temp  Delta_CO2\n",
       "0    1750    277.03  8.719364    0.000000       0.00\n",
       "1    1751    277.02  7.976143   -0.743221      -0.01\n",
       "2    1752    277.00  5.779833   -2.196310      -0.02\n",
       "3    1753    276.99  8.388083    2.608250      -0.01\n",
       "4    1754    276.99  8.469333    0.081250       0.00\n",
       "..    ...       ...       ...         ...        ...\n",
       "261  2011    391.85  9.516000   -0.187083       1.75\n",
       "262  2012    394.06  9.507333   -0.008667       2.21\n",
       "263  2013    396.74  9.606500    0.099167       2.68\n",
       "264  2014    398.87  9.570667   -0.035833       2.13\n",
       "265  2015    401.01  9.831000    0.260333       2.14\n",
       "\n",
       "[266 rows x 5 columns]"
      ]
     },
<<<<<<< HEAD
     "execution_count": 24,
=======
     "execution_count": 26,
>>>>>>> kem
     "metadata": {},
     "output_type": "execute_result"
    }
   ],
   "source": [
    "t_test['Delta_Temp'] = (t_test['Temp']-t_test['Temp'].shift()).fillna(0)\n",
    "t_test['Delta_CO2'] = (t_test['CO2(ppm)']-t_test['CO2(ppm)'].shift()).fillna(0)\n",
    "\n",
    "# df[‘delta’] = (df[‘t_val’]-df[‘t_val’].shift()).fillna(0)\n",
    "\n",
    "t_test"
   ]
  },
  {
   "cell_type": "code",
<<<<<<< HEAD
   "execution_count": 25,
   "id": "9dadd168-ee05-4017-bf63-ac676805c960",
   "metadata": {},
   "outputs": [],
   "source": [
    "x_values = t_test['Delta_CO2']\n",
    "y_values = t_test['Delta_Temp']"
   ]
  },
  {
   "cell_type": "code",
   "execution_count": 26,
   "id": "478e3b17-8ce1-4bec-8b48-cfb9f7be3c62",
=======
   "execution_count": 30,
   "id": "f0e904b2-de1b-4f63-9c7f-16924e0eec18",
>>>>>>> kem
   "metadata": {},
   "outputs": [
    {
     "name": "stdout",
     "output_type": "stream",
     "text": [
      "The r-squared is: 0.0031873506317445146\n"
     ]
    },
    {
     "data": {
<<<<<<< HEAD
      "image/png": "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\n",
=======
      "image/png": "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\n",
>>>>>>> kem
      "text/plain": [
       "<Figure size 432x288 with 1 Axes>"
      ]
     },
     "metadata": {},
     "output_type": "display_data"
    }
   ],
   "source": [
<<<<<<< HEAD
=======
    "x_values = t_test['Delta_CO2']\n",
    "y_values = t_test['Delta_Temp']\n",
>>>>>>> kem
    "(slope, intercept, rvalue, pvalue, stderr) = linregress(x_values, y_values)\n",
    "regress_values = x_values * slope + intercept\n",
    "line_eq = \"y = \" + str(round(slope,2)) + \"x + \" + str(round(intercept,2))\n",
    "plt.scatter(x_values,y_values, edgecolor = \"black\", color = \"purple\")\n",
    "plt.plot(x_values,regress_values,\"r-\")\n",
    "# plt.annotate(line_eq, (300, 50), fontsize=15, color=\"red\")\n",
    "# plt.annotate(f\"r-squared: {rvalue**2:.2f}\", (300, 110), fontsize=15, color=\"Purple\")\n",
<<<<<<< HEAD
    "plt.title(\"Delta T vs Delta CO2\")\n",
    "plt.xlabel(\"Delta_CO2\")\n",
    "plt.ylabel(\"Delta_Temp\")\n",
    "plt.grid(linestyle='-', linewidth=2, alpha=0.5)\n",
    "print(f\"The r-squared is: {rvalue**2}\")\n",
    "\n",
    "# plt.savefig('X.png')\n",
=======
    "plt.title(\"Delta_Temp vs Delta_CO2\")\n",
    "plt.xlabel(\"Delta_CO2 (Change in CO2 each year)\")\n",
    "plt.ylabel(\"Delta_Temp (Change in Ave Global Temp each year)\")\n",
    "plt.grid(linestyle='-', linewidth=2, alpha=0.5)\n",
    "print(f\"The r-squared is: {rvalue**2}\")\n",
    "\n",
    "plt.savefig('Delta_Temp vs Delta_CO2.png')\n",
>>>>>>> kem
    "\n",
    "plt.show()"
   ]
  },
  {
   "cell_type": "code",
<<<<<<< HEAD
   "execution_count": 27,
   "id": "d841d695-c08e-4897-8111-4f82bfd5debb",
   "metadata": {},
=======
   "execution_count": 118,
   "id": "d841d695-c08e-4897-8111-4f82bfd5debb",
   "metadata": {
    "collapsed": true,
    "jupyter": {
     "outputs_hidden": true
    },
    "tags": []
   },
>>>>>>> kem
   "outputs": [
    {
     "data": {
      "text/plain": [
       "<AxesSubplot:xlabel='Year', ylabel='Delta_Temp'>"
      ]
     },
<<<<<<< HEAD
     "execution_count": 27,
=======
     "execution_count": 118,
>>>>>>> kem
     "metadata": {},
     "output_type": "execute_result"
    },
    {
     "data": {
      "image/png": "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\n",
      "text/plain": [
       "<Figure size 432x288 with 1 Axes>"
      ]
     },
     "metadata": {},
     "output_type": "display_data"
    }
   ],
   "source": [
    "sns.scatterplot(x=\"Year\",y=\"Delta_Temp\",data=t_test)"
   ]
  },
  {
   "cell_type": "code",
<<<<<<< HEAD
   "execution_count": 28,
=======
   "execution_count": 117,
>>>>>>> kem
   "id": "6c736ce1-f435-42f2-ad4b-df8a0b3dbe0b",
   "metadata": {},
   "outputs": [
    {
     "data": {
      "text/plain": [
       "<AxesSubplot:xlabel='Year', ylabel='Delta_Temp'>"
      ]
     },
<<<<<<< HEAD
     "execution_count": 28,
=======
     "execution_count": 117,
>>>>>>> kem
     "metadata": {},
     "output_type": "execute_result"
    },
    {
     "data": {
      "image/png": "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\n",
      "text/plain": [
       "<Figure size 432x288 with 1 Axes>"
      ]
     },
     "metadata": {},
     "output_type": "display_data"
    }
   ],
   "source": [
    "t_test_a=t_test[t_test[\"Year\"]>=1886]\n",
    "t_test_a=t_test_a[t_test_a[\"Year\"]<1951]\n",
    "ave_dt_a=t_test['Delta_Temp'].mean()\n",
    "ave_dt_a\n",
    "import seaborn as sns\n",
    "sns.scatterplot(x=\"Year\",y=\"Delta_Temp\",data=t_test_a)\n",
    "# t_test_a"
   ]
  },
  {
   "cell_type": "code",
<<<<<<< HEAD
   "execution_count": 29,
=======
   "execution_count": 96,
>>>>>>> kem
   "id": "7e98465e-26cd-43b7-85b3-7de667e56642",
   "metadata": {},
   "outputs": [
    {
     "data": {
      "text/plain": [
       "0.022549999999999945"
      ]
     },
<<<<<<< HEAD
     "execution_count": 29,
=======
     "execution_count": 96,
>>>>>>> kem
     "metadata": {},
     "output_type": "execute_result"
    }
   ],
   "source": [
    "t_test_b=t_test[t_test[\"Year\"]>=1951]\n",
    "ave_dt_b=t_test_b['Delta_Temp'].mean()\n",
    "ave_dt_b\n",
    "# t_test_b"
   ]
  },
  {
   "cell_type": "code",
<<<<<<< HEAD
   "execution_count": 30,
=======
   "execution_count": 97,
>>>>>>> kem
   "id": "c3b7bfce-f016-4539-b0f9-adf0d8aa9f85",
   "metadata": {
    "tags": []
   },
   "outputs": [
    {
     "data": {
      "text/plain": [
       "Ttest_indResult(statistic=-0.41845750634705103, pvalue=0.6763139118937038)"
      ]
     },
<<<<<<< HEAD
     "execution_count": 30,
=======
     "execution_count": 97,
>>>>>>> kem
     "metadata": {},
     "output_type": "execute_result"
    }
   ],
   "source": [
    "stats.ttest_ind(t_test_a['Delta_Temp'], t_test_b['Delta_Temp'], equal_var=True)"
   ]
  },
  {
   "cell_type": "code",
<<<<<<< HEAD
   "execution_count": 31,
=======
   "execution_count": 114,
>>>>>>> kem
   "id": "867b02b8-17f4-4eeb-8a80-5363c750ae5a",
   "metadata": {},
   "outputs": [
    {
     "data": {
      "text/html": [
       "<div>\n",
       "<style scoped>\n",
       "    .dataframe tbody tr th:only-of-type {\n",
       "        vertical-align: middle;\n",
       "    }\n",
       "\n",
       "    .dataframe tbody tr th {\n",
       "        vertical-align: top;\n",
       "    }\n",
       "\n",
       "    .dataframe thead th {\n",
       "        text-align: right;\n",
       "    }\n",
       "</style>\n",
       "<table border=\"1\" class=\"dataframe\">\n",
       "  <thead>\n",
       "    <tr style=\"text-align: right;\">\n",
       "      <th></th>\n",
       "      <th>T</th>\n",
       "      <th>dof</th>\n",
       "      <th>alternative</th>\n",
       "      <th>p-val</th>\n",
       "      <th>CI95%</th>\n",
       "      <th>cohen-d</th>\n",
       "      <th>BF10</th>\n",
       "      <th>power</th>\n",
       "    </tr>\n",
       "  </thead>\n",
       "  <tbody>\n",
       "    <tr>\n",
       "      <th>T-test</th>\n",
       "      <td>-0.40674</td>\n",
       "      <td>64</td>\n",
       "      <td>two-sided</td>\n",
       "      <td>0.68555</td>\n",
       "      <td>[-0.09, 0.06]</td>\n",
       "      <td>0.0734</td>\n",
       "      <td>0.147</td>\n",
       "      <td>0.08975</td>\n",
       "    </tr>\n",
       "  </tbody>\n",
       "</table>\n",
       "</div>"
      ],
      "text/plain": [
       "              T  dof alternative    p-val          CI95%  cohen-d   BF10  \\\n",
       "T-test -0.40674   64   two-sided  0.68555  [-0.09, 0.06]   0.0734  0.147   \n",
       "\n",
       "          power  \n",
       "T-test  0.08975  "
      ]
     },
<<<<<<< HEAD
     "execution_count": 31,
=======
     "execution_count": 114,
>>>>>>> kem
     "metadata": {},
     "output_type": "execute_result"
    }
   ],
   "source": [
    "# df_x_temp=t_test_a['Delta_Temp']\n",
    "# df_y_temp=t_test_b['Delta_Temp']\n",
    "# ttest(df_x_temp, df_y_temp, paired = True, alternative=\"less\").round(5)\n",
    "\n",
    "ttest(t_test_a['Delta_Temp'], t_test_b['Delta_Temp'], paired = True, alternative=\"two-sided\").round(5)"
   ]
  },
  {
   "cell_type": "code",
<<<<<<< HEAD
   "execution_count": 32,
=======
   "execution_count": 99,
>>>>>>> kem
   "id": "56c27f80-42ed-4ad7-8437-8e563c30032b",
   "metadata": {},
   "outputs": [
    {
     "data": {
      "text/plain": [
       "65"
      ]
     },
<<<<<<< HEAD
     "execution_count": 32,
=======
     "execution_count": 99,
>>>>>>> kem
     "metadata": {},
     "output_type": "execute_result"
    }
   ],
   "source": [
    "cnt_a=t_test_a['Delta_Temp'].count()\n",
    "cnt_a"
   ]
  },
  {
   "cell_type": "code",
<<<<<<< HEAD
   "execution_count": 33,
=======
   "execution_count": 100,
>>>>>>> kem
   "id": "d07d6c33-479b-47f6-9839-e49650565b18",
   "metadata": {},
   "outputs": [
    {
     "data": {
      "text/plain": [
       "65"
      ]
     },
<<<<<<< HEAD
     "execution_count": 33,
=======
     "execution_count": 100,
>>>>>>> kem
     "metadata": {},
     "output_type": "execute_result"
    }
   ],
   "source": [
    "cnt_b=t_test_b['Delta_Temp'].count()\n",
    "cnt_b"
   ]
  },
  {
   "cell_type": "code",
<<<<<<< HEAD
   "execution_count": 34,
=======
   "execution_count": 101,
>>>>>>> kem
   "id": "877a8819-40f0-4b17-b8c3-a7783922d717",
   "metadata": {},
   "outputs": [
    {
     "data": {
      "text/plain": [
       "<AxesSubplot:xlabel='Year', ylabel='Temp'>"
      ]
     },
<<<<<<< HEAD
     "execution_count": 34,
=======
     "execution_count": 101,
>>>>>>> kem
     "metadata": {},
     "output_type": "execute_result"
    },
    {
     "data": {
      "image/png": "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\n",
      "text/plain": [
       "<Figure size 432x288 with 1 Axes>"
      ]
     },
     "metadata": {},
     "output_type": "display_data"
    }
   ],
   "source": [
    "import seaborn as sns\n",
    "sns.set_style(\"whitegrid\") \n",
    "sns.scatterplot(x=\"Year\",y=\"Temp\",data=t_test_a)"
   ]
  },
  {
   "cell_type": "code",
<<<<<<< HEAD
   "execution_count": 35,
=======
   "execution_count": 102,
>>>>>>> kem
   "id": "e88e79fa-c8fa-4073-9f3d-8e1e51bdc822",
   "metadata": {},
   "outputs": [
    {
     "data": {
      "text/plain": [
       "<AxesSubplot:xlabel='Year', ylabel='Temp'>"
      ]
     },
<<<<<<< HEAD
     "execution_count": 35,
=======
     "execution_count": 102,
>>>>>>> kem
     "metadata": {},
     "output_type": "execute_result"
    },
    {
     "data": {
      "image/png": "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\n",
      "text/plain": [
       "<Figure size 432x288 with 1 Axes>"
      ]
     },
     "metadata": {},
     "output_type": "display_data"
    }
   ],
   "source": [
    "import seaborn as sns\n",
    "sns.set_style(\"whitegrid\") \n",
    "sns.scatterplot(x=\"Year\",y=\"Temp\",data=t_test_b)"
   ]
  },
  {
   "cell_type": "code",
<<<<<<< HEAD
   "execution_count": 36,
=======
   "execution_count": 108,
>>>>>>> kem
   "id": "6854db1e-3710-4a67-bd1f-04ab9f44c074",
   "metadata": {},
   "outputs": [],
   "source": [
    "# Pull in csv files from Omar - he is getting better answers\n",
    "\n",
    "file = \"x_data.csv\"\n",
    "file2= \"y_data.csv\"\n",
    "\n",
    "# Read the  csv and store into Pandas DataFrame\n",
    "x_data = pd.read_csv(file, encoding=\"utf-8\")\n",
    "y_data = pd.read_csv(file2, encoding=\"utf-8\")\n",
    "\n"
   ]
  },
  {
   "cell_type": "code",
<<<<<<< HEAD
   "execution_count": 37,
=======
   "execution_count": 112,
>>>>>>> kem
   "id": "1b9550a1-96e0-4b63-92c6-4ae101d73b4a",
   "metadata": {},
   "outputs": [
    {
     "data": {
      "text/plain": [
       "<AxesSubplot:xlabel='Year', ylabel='Temp'>"
      ]
     },
<<<<<<< HEAD
     "execution_count": 37,
=======
     "execution_count": 112,
>>>>>>> kem
     "metadata": {},
     "output_type": "execute_result"
    },
    {
     "data": {
      "image/png": "iVBORw0KGgoAAAANSUhEUgAAAX8AAAEECAYAAADAoTRlAAAAOXRFWHRTb2Z0d2FyZQBNYXRwbG90bGliIHZlcnNpb24zLjMuNCwgaHR0cHM6Ly9tYXRwbG90bGliLm9yZy8QVMy6AAAACXBIWXMAAAsTAAALEwEAmpwYAAAl2klEQVR4nO3dfVRUdR4/8DcMODwNIOpWboCMD+2kuQn+2jw+tR0qW+IoUiBTYuuWW+1v3ZTafN46SPakK+p6zNJw7SjL8ut0wqOdbQm1U26bpkg25DqguUaIgiswzgAz9/fHLpPgDFyGe2funft+ndM5Mvdy7+fOoc985/N9ChEEQQAREWlKaKADICIi/2PyJyLSICZ/IiINYvInItIgJn8iIg0KC3QAYpw4cQJ6vV7UuQ6HQ/S5SqPm2AF1x6/m2AF1x6/m2AFlx+9wOHDnnXd6PKaK5K/X62EymUSda7FYRJ+rNGqOHVB3/GqOHVB3/GqOHVB2/BaLxesxln2IiDSIyZ+ISIOY/ImINIjJn4hIg5j8iYg0SBWjfYiItMblEnD2cjsar9pxU2wERg2LRmhoiGTXZ/InIlIYl0vAh6e+x9KyE7B3uhARHooNOXdi1vibJfsAYNmHiEhhzl5udyd+ALB3urC07ATOXm6X7B5M/kRECtN41e5O/N3snS5cbLVLdg8mfyIihbkpNgIR4T3Tc0R4KH5kiJDsHrIk/46ODhQUFCAnJwcLFy7E2bNnexz/4IMPkJWVhezsbOzZs0eOEIiIVGvUsGhsyLnT/QHQXfMfNSxasnvI0uFbVlaGqKgolJWVoa6uDoWFhdixY4f7+GuvvYZ9+/YhKioKGRkZyMjIQFxcnByhEBGpTmhoCGaNvxk/WTwdF1vt+JFBJaN9zpw5gxkzZgAAjEYjrFZrj+O33XYbWltbERYWBkEQEBLS9wM5HI4+Fyi6nt1uF32u0qg5dkDd8as5dkDd8as5dkD++OMAOBzAN5ekva4syd9kMqGqqgrp6emorq5GY2MjnE4ndDodAGDs2LHIzs5GZGQk7rvvPsTGxvZ5Pa7qqQ5qjl/NsQPqjl/NsQPKjt/vq3pmZ2cjJiYG+fn5qKqqwvjx492Jv7a2FgcPHkRlZSU+/vhjNDc348CBA3KEQUREXsiS/GtqapCWlobdu3cjPT0diYmJ7mMGgwERERHQ6/XQ6XRISEjA1atX5QiDiIi8kKXsk5ycjOLiYuzcuRMGgwFFRUWoqKiAzWZDbm4ucnNzYTabER4ejqSkJGRlZckRBhEReSFL8k9ISEBJSUmP1zIzM93/zsvLQ15enhy3JiIiEbi2DxFpmtwLqCkVkz8RaZY/FlBTKi7vQESa5Y8F1JSKyZ+INMsfC6gpFZM/EQUll0tAXVMbjlgvoa6pDS6XcMM5g1lArfv633VGe72+krHmT0RBR2wtv3sBtd7n9beAWjD0FTD5E1HQ8VbL/8ni6TCOiHGf5+sCamKvr2Qs+xBR0BlILT80NATGETG42zgcxhExolruwdBXwORPREFH7s1Q/LHZityY/Iko6Mi9GYo/NluRG2v+RBR05N4M5frr13/fjJSbE1Q3M5jJn4iCUnctX64O2O7rOy6dh3FEkiz3kBPLPkREGsTkT0SkQUz+REQaxORPRKRB7PAlIvIjpewfIEvy7+jowPLly3H+/HnExMRgzZo1GDVqlPv4yZMn8corr0AQBIwYMQKvv/469Hq9HKEQESmGktYEkqXsU1ZWhqioKJSVlWHVqlUoLCx0HxMEAatXr8a6deuwd+9eTJ8+HRcuXJAjDCIiRVHS/gGyJP8zZ85gxowZAACj0Qir1eo+Vl9fj/j4eOzatQuPPfYYrly5AqPRKEcYRESKoqQ1gWQp+5hMJlRVVSE9PR3V1dVobGyE0+mETqdDS0sLjh8/jtWrVyM5ORlPPfUUJkyYgClTpni9nsPhgMViEXVvu90u+lylUXPsgLrjV3PsgLrj7y/2UJ0O7aHRaLE5kRClQ5SrHS6n048R9m0g731EeCwiwkN7fABEhIciMqQTX5654NdnlCX5Z2dnw2q1Ij8/H6mpqRg/fjx0Oh0AID4+HsnJyRgzZgwAYPr06fjqq6/6TP56vR4mk0nUvS0Wi+hzlUbNsQPqjl/NsQPqjr+v2JVUI/dmIO+9yyVgQ05oj+fZYp6EC20ClpadlPwZ+/xQHdSVvaipqUFaWhp2796N9PR0JCYmuo8lJiaivb0d586dAwAcPXoUY8eOlSMMIlI5JdXIpdC9JtD+xdNRuuhn2L94OlKGxQTkGWVp+ScnJ6O4uBg7d+6EwWBAUVERKioqYLPZkJubi6KiIhQUFEAQBEyaNAn33HOPHGEQkcr1VSNXy6YpvfVec+iI9VJAnlGW5J+QkICSkpIer2VmZrr/PWXKFJSXl8txayIKIt3r5veukatp3fz+BOoZOcOXiBRL6nXzxWzq7m+B2huAM3yJSLG8rcsPAHVNbQOaJavUzmO59x7whsmfiCQn5RIGvWvkviZxf2y67utzy733gCdM/kQkKblb2L4mcbk7j7099/2mm/Btiy3ga/n0xuRPRJKSu4XtaxIfTMeqmBa9p+d+9UMLOp0uvPD/pB/DP1js8CUiScm9hEF3Er+emCTua8dqd4v+F5s+Qd5bn+MXmz7Bh6e+v6Gz2NNzPzTxx+7EDyhrngKTPxFJytfkLJavSdzTBCsxLXCxE808PbcuFIpZy6c3ln2ISFLdybl37VuqoYuDGR3jS8eq2DKTp+f+P8kJip2nwORPRJLyx9BFf46OEdtX4Om5k4ZGyfpBOBhM/kQkuUAMXZTLQL7JeHruQIzhF4PJn4ioD4P9JqPUD0ImfyKifig1gQ8GR/sQEWkQW/5ERNeRcmkKJWPyJyL6H6Uu/iYHln2ISDECveRysO0c1he2/IlIEZTQ6g7GncO8kaXl39HRgYKCAuTk5GDhwoU4e/asx/NWr16NN954Q44QiEhllNDqlntpCiWRJfmXlZUhKioKZWVlWLVqFQoLC284p7S0FKdPn5bj9kSkQnIvCCdGoHbVCgRZyj5nzpzBjBkzAABGoxFWq7XH8ePHj6O6uhq5ubmoq6uTIwQiUhkl7NcbqF21AkGW5G8ymVBVVYX09HRUV1ejsbERTqcTOp0OFy9exJYtW7BlyxYcOHBA1PUcDgcsFouoc+12u+hzlUbNsQPqjl/NsQPqjr879lCdDq/MuR3L3v/aXfN/Zc7t6Gz5DpZLTr/HFQfA4QC+udT3eWp972VJ/tnZ2bBarcjPz0dqairGjx8PnU4HAPjwww/R0tKCRYsWoampCXa7HUajEXPnzvV6Pb1eD5PJJOreFotF9LlKo+bYAXXHr+bYAXXHf33sY10CJiYNU1WrW8nvfV8fSrIk/5qaGqSlpWHFihWoqanBt99+6z6Wn5+P/Px8AMB7772Hurq6PhM/EWlHMC6joFSyJP/k5GQUFxdj586dMBgMKCoqQkVFBWw2G3Jzc+W4JRERDYAsyT8hIQElJSU9XsvMzLzhPLb4iZRNK0sdaBEneRGRR0qYdEXy4fIOROSREiZdkXyY/InIIyVMuhIr0GsCqRHLPkTkkRImXYnB8pRv2PInIo/UstQBy1O+YcufiDxSy1IHWlqJU0pM/kTklRomXamlPKU0LPsQkV/I1SmrlvKU0rDlT0Sy66tTdrDUUp5SGrb8iUh2cnfKdpen7jYOh3FEDBO/CEz+RCQ7Nc0Z0AomfyKSnZa2R1QLJn8ikh07ZZWHHb5EKta96uZ3ndHQN7UptqOTnbLKw+RPpFJqW9ZADXMGtIRlHyKV4rIGNBhM/kQqxRE0NBgs+xApkJgdtJSyrIGvu32ppb8iWMmS/Ds6OrB8+XKcP38eMTExWLNmDUaNGuU+vm/fPuzatQs6nQ7jxo3Diy++iNBQfgkhAsTX8rtH0PQ+z58jaHztd1Bbf0UwkiXjlpWVISoqCmVlZVi1ahUKCwvdx+x2OzZu3Ig///nPKC0tRVtbG6qqquQIg0iVxNbyu0fQ7F88HTsevQP7F0/3e/L0td+B/RWBJ0vyP3PmDGbMmAEAMBqNsFqt7mNDhgxBaWkpIiMjAQBdXV3Q6/VyhEGkSgOp5XePoBkZ1u5e1sCfu1r52u/A/orAk6XsYzKZUFVVhfT0dFRXV6OxsRFOpxM6nQ6hoaEYPnw4AGD37t2w2WyYOnVqn9dzOBywWCyi7m2320WfqzRqjh1Qd/xKij0iPNZjLX+Iy/v/B93xh+p0sLTqsez9r93llFfm3A6TwQGX06mIWAfze0qkpL+dgQgRBEHyZkFXVxdee+01WCwWpKam4tNPP0V5ebn7uMvlwuuvv476+nr88Y9/dH8L8MZiscBkMom690DOVRo1xw6oO/7rY/e1A1MqvtTDu+Ova2rDLzZ9ckNS3b94uizj61nzV/bffV+xydLyr6mpQVpaGlasWIGamhp8++23PY6vWbMGQ4YMwdatW9nRS4qihKQ0mNmw/t7VytdYr/+9+u+bkXJzAkf7+JksyT85ORnFxcXYuXMnDAYDioqKUFFRAZvNhgkTJqC8vByTJ0/GggULAAD5+fm477775AiFaEC8dUT+RKaWsze+zoYNxPBPX2Pt/j3HpfMwjkiSKTryRpbkn5CQgJKSkh6vZWZmuv9dW1srx22JBk3t+8EqYfgnqQMneRFdRykTp3zFBdRILBbcia4TDEsPc1crEoMtf6LrsOVMWsHkT9QLlx4mLei37PPll19i9uzZmDZtGubOnYuvv/7aH3EREZGM+m35r127FuvXr8eYMWNw+vRprFmzBqWlpf6IjYiIZNJvy99gMGDMmDEAgHHjxiEiQh2jHoiIyLt+W/7Dhg3DypUrcffdd+PUqVNwuVz4y1/+AgDIzc2VPUAiIpJev8nfaDQCAM6dO4eYmBjcddddaGpqkj0wIiKST7/J/+mnn8a//vUvdHR0uF+bOHGirEEREZG8+k3+ixYtQkdHB2JjYwEAISEh2LJli+yBERGRfPpN/g6HA++++64/YiEiIj/pN/lPnjwZn3zyCUaPHu1+beTIkbIGRUT+J2Yfg0DvdUDS6Tf5X758GS+//HKPsg/H+RMFFzH7GChhrwOSTr/Jv76+HgcOHPBHLESqEkytYDH7GChlrwOSRr+TvMaNG4cTJ06go6PD/R+R1nW3gn+x6RPkvfU5frHpE3x46ntZN0uXk5gN1bnpenDpt+X/xRdf4ODBg+6fQ0JCUFlZKWdMRIoXbK1gMfsYqH2vA+qp3+RfUVEBALhy5Qri4uIQEtL/19qOjg4sX74c58+fR0xMDNasWYNRo0a5j3/88cf405/+hLCwMGRnZyMnJ8f3JyAKALXv+NWbmB3AuEtYcBHV8n/ppZfgdDoxa9YsjBw5Eo888kifv1NWVoaoqCiUlZWhrq4OhYWF2LFjBwCgs7MT69atQ3l5OSIjI5GXl4ef//znGDFihDRPROQHUreCA91/IGYfA+51EFz6rflv3LgR7777LoYPH46nnnoKe/fu7feiZ86cwYwZMwD8d3kIq9XqPma1WpGUlIS4uDgMGTIEaWlpOHr06CAegcj/pNzxSyn9B2J2AOMuYcGj35Z/aGgo4uPjERISAr1ej+jo/v+4TSYTqqqqkJ6ejurqajQ2NsLpdEKn06GtrQ0Gg8F9bnR0NNra2vq8nsPhgMViEfE4gN1uF32u0qg5dkCd8YfqdGgPjcZlRyTsZy4gytUOl9Mp6ndH63XYs2AiWq45MTRSh2hXK7755sqAY7gWHoulZSdv6D+4ecFERHZeFXUNNb733dQcO6De+L0m/2effRYbN25EUlIS1q9fj5aWFmzfvl3UBK/s7GxYrVbk5+cjNTUV48ePh06nAwDExMSgvb3dfW57e3uPDwNP9Ho9TCaTqAeyWCyiz1UaNccOqC9+pYxbP2K95LH/oCNUj1T+3SuekuPv60PJa9mnubkZAPDSSy9h5MiRmDx5MqKiorB27dp+b1hTU4O0tDTs3r0b6enpSExMdB8bPXo0zp07hytXrqCjowNHjx7FpEmTBvI8RJLwNmLn7OX2fn5TWt39B9fjKBqSm9eW//nz57Fhwwb3zzExMWhsbMTmzZuxdOnSPi+anJyM4uJi7Ny5EwaDAUVFRaioqIDNZkNubi6WLVuGX/3qVxAEAdnZ2bjpppukeyIikZQyYoejaCgQvCb/iIgIpKSk+HTRhIQElJSU9HgtMzPT/e97770X9957r0/XpuAR6BEuShm3zlE0FAhek//w4cORlZXlz1hIQ5RQb1dSi7t7FI0a5wiQOnlN/hMmTPBnHKQxSpghe32Lu/77ZqTcnMAWN2mG1w7fF154wZ9xkMYoZZ2Y7hb3yLB2xY9bd7kE1DW14Yj1Euqa2lS7jhApQ7/j/InkoJR6u1oooUxGwaXfGb5EcpByhqwWKGVYKgUPtvwpIDjCZWCUMiyVggeTPwUMR7iIxzIZSY1lHyIVYJmMpKb5ln+gJxoRicEyGUlN08mfIyhITaQsk7HRQ5pO/kqYaDQY/B+YfMFGDwEar/krZaKRL5SyAYhScAKUeBw2SoDGk7+al9Ll/8A/4AfhwKi50UPS0XTyV/MICv4P/AO1fRD6+1tK7/v9yKDeRg9JR9M1fzWPoOC47x+oaQKUv+vtnu63xTxJMauZUuBouuUPqHdDajV/a5Gamsp3/v6W4ul+/3fPcdx+iwH7F09H6aKfYf/i6ezs1SBNt/zVTM3fWqSmpHX5++Pvbyne7vf9Vbu7wUPaxOSvYlwe4b/U9EHo73Idy4PkjSxln87OThQUFGDevHkwm82wWq09jn/wwQfIyspCdnY29uzZI0cIqsehiwOjlvKdv8t1LA+SN7K0/A8dOoSuri6Ulpbi008/xcaNG7F582b38ddeew379u1DVFQUMjIykJGRgbi4ODlCUSVOwgle/v6WoqZvReRfsiT/lJQUOJ1OuFwutLW1ISys521uu+02tLa2IiwsDIIgICSEf4jXU/vMY+qbv8t1LA+SJ7Ik/6ioKFy4cAEPPvggWlpasG3bth7Hx44di+zsbERGRuK+++5DbGxsn9dzOBywWCyi7m2320Wf6w+hOh3aQ6PRYnMiIUqHKFc7XE6nx3O7Y/+uM9pjJ139981wXDrvj7B9orT3fiDUHDug7vjVHDug3vhlSf4lJSWYNm0aCgoK0NDQgAULFqCiogJ6vR61tbU4ePAgKisrERUVheeffx4HDhzAgw8+6PV6er0eJpNJ1L0tFovoc+U20PJNd+z6pjaPnXQpNyfAOCLJn48wIEp67wdKzbED6o5fzbEDyo6/rw8lWTp8Y2NjYTAYAABxcXHo6uqC83+tXYPBgIiICOj1euh0OiQkJODq1atyhBFwvo7pZicdEclNlpb/448/jhUrVsBsNqOzsxNLlixBZWUlbDYbcnNzkZubC7PZjPDwcCQlJSErK0uOMALO1zHd3jrpAKCuqY2reBLRoMmS/KOjo1FcXOz1eF5eHvLy8uS4taIMZox17046LY8A4tLVRNLT/PIOUuo9Nj9paNQN5Zst5kkQBAx4/L7aFi+TitQrdnL+BNF/cYavRLy1zO833YT9/yvf3Bwbga8bWpGx+ZMBt97VtHiZlKQc9trXtycirWHLXyLektS3LTb3zFOXAJ9b72pavExKUi5drdVvT0SeMPlLREySGkwi0+oIICk/9LgHAtEPWPaRiJjO3cF2AMs9Td/XjtXu3/uuMxr6pjZJ45Jyxc6+3n+HQ5JwiVSDyV8iYpLUYBOZnNP0fR1NJPcopMF86PX+MOvugPf0/n9zadChclQSqQqTv0TEJCklL7Lla8eqP9Yh8uVDT0wHvJTvv5aH4pI6seYvITHLCit16WFf6+FKraOL6YCX8v1nZzKpDZM/AfC9Y1Wpo5D8/aGk1A9BIm+Y/AmA76OJlDoKyd8fSkr9ECTyhjV/AuB7f8T1v1f/fTNSbk5QRD+Gv/f19Xa/pKFRXI+JFInJn9x8HU3U/XuOS+cVs+S0EnbMShoahb9ZGtkJTIqkqeTPoXjaIuXQWDF/O73vV9fUxh3ZSLE0k/w5FI985evfjlbXYyJ1CNoO396rN9Zf8n0oHleC1DZfh3GyE5iULChb/p5aam88/FOfWmH8xkC+tuD93elMNBBBmfw9tdT+dbHVp3V1/DGDlZTN1zWZlDyjm0iWsk9nZycKCgowb948mM1mWK3WHsdPnjwJs9mMvLw8LF68GA6JV9Xy1FIrO/pvvJx1x4DHowfr5B25S1nBVCobzFwGpc7oJpKl5X/o0CF0dXWhtLQUn376KTZu3IjNmzcDAARBwOrVq7Fp0yYkJyfjr3/9Ky5cuACj0SjZ/T211FpsHUhNih/wui6DWYlTqQZTyhIz6iXYSmVswVMwkqXln5KSAqfTCZfLhba2NoSF/fAZU19fj/j4eOzatQuPPfYYrly5ImniB7y31JISogfcCvPHDNbuVvJ3ndF+aSX72oEpdkvFYFznhi14CjYhgiBInmkaGhrwzDPPwGazoaWlBdu2bUNqaioA4NixY/jlL3+J9957D8nJyXjqqafwxBNPYMqUKV6vd+LECej1elH3ttvtiIiIQKhOh/bQaLRcc2JopA7Rrna4nE6fnkfKa3m6tqVVj2Xvf+1uJb8y53aYDA7J7tHbd53R+NWemhte3/HoHRgZ5j1BXwuPhXnXyRu+Be1ZMBGRnVfd772v1w+k7tjVSs3xqzl2QPnxm0wmj6/LUvYpKSnBtGnTUFBQgIaGBixYsAAVFRXQ6/WIj49HcnIyxowZAwCYPn06vvrqqz6Tv16v9/oAvVksFtHnKkFdUxuW7f6kRyt52ftfY7+MHcr6pjaPpayUmxP6nKF7xHrJY/9HR6geqSaT+7339fqBpLa/m97UHL+aYweUHb/FYvF6TJayT2xsLAwGAwAgLi4OXV1dcP6vFZuYmIj29nacO3cOAHD06FGMHTtWjjB85s/OykB0KPtayhI7bl2pi70R0Q9kafk//vjjWLFiBcxmMzo7O7FkyRJUVlbCZrMhNzcXRUVFKCgogCAImDRpEu655x45wvCJvzsrA9Gh7GsHpthx6+wgJVI+WZJ/dHQ0iouLvR6fMmUKysvL5bj1oPl7XH+gJgL5su7NQJK6nFtOEtHgBeUkr8Hw93osSl0S2RsmdaLgELRr+/gqEOuxdCfUkWHtsgwjDKYJV0QkDSb/XoKts1Ls2Hwi0haWfXoJts7KwfRhcP8DouDF5O9BMNW1fe3DCLYlGoioJ5Z9gpyvfRhSL9HAfgciZWHyD3K+9mFIOfmM/Q5EysOyT5DztQ9Dysln3BOBSHnY8tcAX1aklHLUU7DuiUCkZmz5k0dSjnoayLcIjjAi8g8mf/JKqlFPYpew4AgjIv9h8ifZif0Wwb4BIv9h8ie/EPMtwt/rKhFpGTt8STECsa4SkVYx+ZNiBNu6SkRKxrIPKUawratEpGRM/kFG7UMlg2ldJSIlY/IPIhwqSURiyVLz7+zsREFBAebNmwez2Qyr1erxvNWrV+ONN96QIwRNknoxNiIKXrIk/0OHDqGrqwulpaX4zW9+g40bN95wTmlpKU6fPi3H7TWLyygQkViyJP+UlBQ4nU64XC60tbUhLKxnden48eOorq5Gbm6uHLfXLA6VJCKxQgRBkHxd3YaGBjzzzDOw2WxoaWnBtm3bkJqaCgC4ePEili9fji1btuDAgQOoq6vDc8891+f1Tpw4Ab1eL+redrsdERHqTHaDjT1Up4OlVY9l73/trvm/Mud2mAwOuJxOCSP1TMvvfaCpOX41xw4oP36TyeTxdVk6fEtKSjBt2jQUFBSgoaEBCxYsQEVFBfR6PT788EO0tLRg0aJFaGpqgt1uh9FoxNy5c71eT6/Xe32A3iwWi+hzlUaK2Me6BExMGhaQoZJaf+8DSc3xqzl2QNnxWywWr8dkSf6xsbEIDw8HAMTFxaGrqwvO/7U88/PzkZ+fDwB47733UFdX12fip4HhUEkiEkOW5P/4449jxYoVMJvN6OzsxJIlS1BZWQmbzcY6Pw2a2ucyECmBLMk/OjoaxcXF/Z7HFj8NFOcyEEmDa/uQqnAuA5E0mPxJVTiXgUgaTP6kKpzLQCQNJn9SFS77TCQNLuxGqsJln4mkweRPqsO5DESDx7IPEZEGseXvI040IiI1Y/L3AScaEZHasezjA040IiK1Y/L3AScaEZHaMfn7gBONiEjtmPx9wIlGRKR27PD1AScaEZHaMfn7iBONiEjNWPYhItIgJn8iIg1i8ici0iAmfyIiDWLyJyLSoBBBEIRAB9GfEydOQK/XBzoMIiJVcTgcuPPOOz0eU0XyJyIiabHsQ0SkQUz+REQaxORPRKRBTP5ERBrE5E9EpEFM/kREGqSq5F9dXY358+cDAE6dOoWHH34YZrMZhYWFcLn+u7PW2rVrMXfuXMyfPx/z589Ha2sr7HY7fvvb38JsNuPJJ59Ec3OzImM/dOgQcnJykJOTgxdffBGCICgidjHxWywW93s+f/583HHHHTh8+LAi4hfz3u/YsQNz585FdnY2PvroIwBQROxi49++fTtmz56NRx99FFVVVQGPv7OzE88//zzMZjMefvhhVFZW4ty5c8jLy4PZbMYf/vAHd+xlZWWYO3cucnJyFBH7QOMHgObmZtx///1wOByKiF8UQSW2b98uPPTQQ8IjjzwiCIIgZGVlCceOHRMEQRA2bNggvP/++4IgCMK8efOEy5cv9/jdnTt3Cps2bRIEQRD27dsnFBYW+jFycbG3trYKGRkZ7ti3b98uXL58OeCxi43/evv37xeWLl0qCII63vv//Oc/wsyZMwWHwyFcuXJFuOeeexQRu9j4a2trhczMTMFutwt2u12YM2eOYLPZAhp/eXm5sHbtWkEQBKG5uVmYOXOm8Otf/1r4xz/+IQiCIKxevVr429/+Jly8eFF46KGHBIfDIVy9etX970C/92LjFwRBOHz4sDB79mxh0qRJgt1uFwRBGX87/VFNyz8pKQmbN292/9zY2IjU1FQAQGpqKo4dOwaXy4Vz585hzZo1mDdvHsrLywEAx44dw/Tp0wEAM2bMwJEjRxQX+/HjxzFu3Di8+uqrMJvNGD58OBISEgIeu9j4u9lsNmzevBkrV64EoI73PjIyEiNHjsS1a9dw7do1hISEKCJ2sfFbrVbcdddd0Ov10Ov1SE5OxjfffBPQ+GfNmoXf/e537p91Oh1OnTqFu+66yx3PZ599hpMnT2LSpEkYMmQIDAYDkpKSUFtbG/D3Xmz8ABAaGop33nkH8fHx7vMDHb8Yqkn+DzzwAMLCfth7JjExEf/85z8BAFVVVbh27RpsNhsee+wxvP7663j77bexZ88e1NbWoq2tDQaDAQAQHR2N1tZWxcXe0tKCzz//HM899xzeeust7Nq1C/X19QGPXWz83crLyzFr1iwkJCQAQMDjFxv7LbfcgoyMDGRlZSE/P18RsQPi4r/ttttw9OhRtLW1oaWlBcePH8e1a9cCGn90dDRiYmLQ1taGxYsX49lnn4UgCO4P1u54ro+x+/W2traAv/di4weAqVOnYujQoT1+P9Dxi6Ga5N/byy+/jDfffBOLFi3CsGHDMHToUERGRiI/Px+RkZGIiYnB3XffjdraWsTExKC9vR0A0N7ejtjYWMXFHh8fjzvuuAMjRoxAdHQ0Jk+eDIvForjYAc/xd6uoqMAjjzzi/llp8XuK/fDhw7h48SIqKytx8OBB/P3vf8fJkycVFzvgOf7Ro0fj0UcfxZNPPolXX30VP/3pTzF06NCAx9/Q0ID8/HzMnj0bmZmZCA39Id10x3N9jN2vGwyGgMcuNn5vlBB/f1Sb/A8dOoSXX34Z27dvx5UrVzB16lScPXsWZrMZTqcTnZ2d+PLLLzF+/Hikpqbi0KFDAIDDhw8jLS1NcbFPmDABp0+fRnNzM7q6ulBdXY0xY8YoLnbAc/wA0Nraio6ODtxyyy3uc5UWv6fY4+LiEBERgSFDhkCv18NgMODq1auKix3wHH9zczNaWlqwd+9erFy5Eg0NDRg7dmxA47906RIWLlyI559/Hg8//DAA4Pbbb8fnn3/ujmfy5MmYOHEijh07BofDgdbWVlitVowbNy7g773Y+L0JdPxiqHYP3+TkZCxatAiRkZH42c9+hpkzZwIAMjMzkZOTg/DwcMyePRtjx47FrbfeihdeeAF5eXkIDw/H+vXrFRl7QUEBnnjiCQD/rTmOGzcOiYmJiood8B5/fX09fvzjH/c4Ny8vT1Hxe4v9s88+Q05ODkJDQ5GamoqpU6ciLS1NUbEDnuMXBAH//ve/kZ2djfDwcPz+97+HTqcL6Hu/bds2XL16FVu3bsXWrVsBACtXrsTatWuxYcMGGI1GPPDAA9DpdJg/fz7MZjMEQcCSJUug1+sD/ncjNn5vAh2/GFzVk4hIg1Rb9iEiIt8x+RMRaRCTPxGRBjH5ExFpEJM/EZEGMfkTebF48WJs377d/XN7ezseeOAB1NbWBjAqImlwqCeRF83NzcjOzsZbb72FMWPGYM2aNRg1ahQWLlwY6NCIBk21k7yI5JaQkIDVq1dj1apVWLp0Kc6fP4+nn34aTzzxBBwOB/R6PQoLC3HLLbdg/fr1+Oqrr9De3o7Ro0dj3bp12Lx5M44fPw6bzYaioiKMHj060I9E5MbkT9SHe++9Fx999BGWLVuGvXv3Yt26dZg/fz5mzpyJI0eO4I033sBLL72E2NhYvPPOO3C5XMjIyEBjYyMAwGg0YtWqVQF+CqIbMfkT9WPOnDmw2+246aabcPr0abz55pt4++23IQgCwsPDodfr0dzcjKVLlyIqKgo2mw2dnZ0AgJSUlABHT+QZkz/RABiNRixcuBCpqamwWq344osvcPjwYTQ0NGDjxo1obm7GRx99hO6utOtXgiRSEiZ/ogF44YUX8OKLL8LhcMBut2PlypW49dZbsXXrVuTk5GDIkCFITEzExYsXAx0qUZ842oeISIP4nZSISIOY/ImINIjJn4hIg5j8iYg0iMmfiEiDmPyJiDSIyZ+ISIP+P15fx97lg+dGAAAAAElFTkSuQmCC\n",
      "text/plain": [
       "<Figure size 432x288 with 1 Axes>"
      ]
     },
     "metadata": {},
     "output_type": "display_data"
    }
   ],
   "source": [
    "import seaborn as sns\n",
    "sns.set_style(\"whitegrid\") \n",
    "sns.scatterplot(x=\"Year\",y=\"Temp\",data=y_data)"
   ]
  },
  {
   "cell_type": "code",
<<<<<<< HEAD
   "execution_count": 38,
=======
   "execution_count": 1,
>>>>>>> kem
   "id": "fad06caf-b95a-4c2d-9dd6-89a6173d11ed",
   "metadata": {},
   "outputs": [
    {
<<<<<<< HEAD
     "data": {
      "text/html": [
       "<div>\n",
       "<style scoped>\n",
       "    .dataframe tbody tr th:only-of-type {\n",
       "        vertical-align: middle;\n",
       "    }\n",
       "\n",
       "    .dataframe tbody tr th {\n",
       "        vertical-align: top;\n",
       "    }\n",
       "\n",
       "    .dataframe thead th {\n",
       "        text-align: right;\n",
       "    }\n",
       "</style>\n",
       "<table border=\"1\" class=\"dataframe\">\n",
       "  <thead>\n",
       "    <tr style=\"text-align: right;\">\n",
       "      <th></th>\n",
       "      <th>T</th>\n",
       "      <th>dof</th>\n",
       "      <th>alternative</th>\n",
       "      <th>p-val</th>\n",
       "      <th>CI95%</th>\n",
       "      <th>cohen-d</th>\n",
       "      <th>BF10</th>\n",
       "      <th>power</th>\n",
       "    </tr>\n",
       "  </thead>\n",
       "  <tbody>\n",
       "    <tr>\n",
       "      <th>T-test</th>\n",
       "      <td>-0.40674</td>\n",
       "      <td>64</td>\n",
       "      <td>less</td>\n",
       "      <td>0.34278</td>\n",
       "      <td>[-inf, 0.05]</td>\n",
       "      <td>0.0734</td>\n",
       "      <td>0.295</td>\n",
       "      <td>0.14473</td>\n",
       "    </tr>\n",
       "  </tbody>\n",
       "</table>\n",
       "</div>"
      ],
      "text/plain": [
       "              T  dof alternative    p-val         CI95%  cohen-d   BF10  \\\n",
       "T-test -0.40674   64        less  0.34278  [-inf, 0.05]   0.0734  0.295   \n",
       "\n",
       "          power  \n",
       "T-test  0.14473  "
      ]
     },
     "execution_count": 38,
     "metadata": {},
     "output_type": "execute_result"
=======
     "ename": "NameError",
     "evalue": "name 'ttest' is not defined",
     "output_type": "error",
     "traceback": [
      "\u001b[0;31m---------------------------------------------------------------------------\u001b[0m",
      "\u001b[0;31mNameError\u001b[0m                                 Traceback (most recent call last)",
      "\u001b[0;32m<ipython-input-1-6bac75177d23>\u001b[0m in \u001b[0;36m<module>\u001b[0;34m\u001b[0m\n\u001b[0;32m----> 1\u001b[0;31m \u001b[0mttest\u001b[0m\u001b[0;34m(\u001b[0m\u001b[0mt_test_a\u001b[0m\u001b[0;34m[\u001b[0m\u001b[0;34m'Delta_Temp'\u001b[0m\u001b[0;34m]\u001b[0m\u001b[0;34m,\u001b[0m \u001b[0mt_test_b\u001b[0m\u001b[0;34m[\u001b[0m\u001b[0;34m'Delta_Temp'\u001b[0m\u001b[0;34m]\u001b[0m\u001b[0;34m,\u001b[0m \u001b[0mpaired\u001b[0m \u001b[0;34m=\u001b[0m \u001b[0;32mTrue\u001b[0m\u001b[0;34m,\u001b[0m \u001b[0malternative\u001b[0m\u001b[0;34m=\u001b[0m\u001b[0;34m\"less\"\u001b[0m\u001b[0;34m)\u001b[0m\u001b[0;34m.\u001b[0m\u001b[0mround\u001b[0m\u001b[0;34m(\u001b[0m\u001b[0;36m5\u001b[0m\u001b[0;34m)\u001b[0m\u001b[0;34m\u001b[0m\u001b[0;34m\u001b[0m\u001b[0m\n\u001b[0m",
      "\u001b[0;31mNameError\u001b[0m: name 'ttest' is not defined"
     ]
>>>>>>> kem
    }
   ],
   "source": [
    "ttest(t_test_a['Delta_Temp'], t_test_b['Delta_Temp'], paired = True, alternative=\"less\").round(5)"
   ]
  },
  {
   "cell_type": "code",
<<<<<<< HEAD
   "execution_count": 39,
   "id": "b2825257-abf5-4f6e-97b0-fde1b3539ec0",
   "metadata": {},
   "outputs": [
    {
     "data": {
      "text/plain": [
       "<matplotlib.legend.Legend at 0x7fa3523bc490>"
      ]
     },
     "execution_count": 39,
     "metadata": {},
     "output_type": "execute_result"
    },
    {
     "data": {
      "image/png": "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\n",
      "text/plain": [
       "<Figure size 432x288 with 1 Axes>"
      ]
     },
     "metadata": {},
     "output_type": "display_data"
    }
   ],
   "source": [
    "population1=t_test_a['Delta_Temp'] # 1886 - 1951\n",
    "population2=t_test_b['Delta_Temp'] # 1951 - 2015\n",
    "\n",
    "\n",
    "plt.hist(population1, 10, density=True, alpha=0.7, label=\"population1\")\n",
    "plt.hist(population2, 10, density=True, alpha=0.7, label=\"population2\")\n",
    "plt.axvline(population1.mean(), color='k', linestyle='dashed', linewidth=1)\n",
    "plt.axvline(population2.mean(), color='k', linestyle='dashed', linewidth=1)\n",
    "plt.legend()  "
   ]
  },
  {
   "cell_type": "code",
   "execution_count": null,
   "id": "eed0bd12-1c17-46e7-a56b-15ca7e156d90",
   "metadata": {},
   "outputs": [],
   "source": []
  },
  {
   "cell_type": "code",
   "execution_count": null,
   "id": "d7e0c81b-8009-4c6d-bece-ed468748a68c",
   "metadata": {},
   "outputs": [],
   "source": []
  },
  {
   "cell_type": "code",
   "execution_count": null,
   "id": "ea1158ec-4dd6-4630-bf37-d79ec9a241db",
   "metadata": {},
   "outputs": [],
   "source": []
  },
  {
   "cell_type": "code",
   "execution_count": null,
   "id": "f2ad6b45-4a74-42c2-a0da-b0e0096b4a66",
=======
   "execution_count": null,
   "id": "b2825257-abf5-4f6e-97b0-fde1b3539ec0",
>>>>>>> kem
   "metadata": {},
   "outputs": [],
   "source": []
  }
 ],
 "metadata": {
  "kernelspec": {
   "display_name": "Python 3",
   "language": "python",
   "name": "python3"
  },
  "language_info": {
   "codemirror_mode": {
    "name": "ipython",
    "version": 3
   },
   "file_extension": ".py",
   "mimetype": "text/x-python",
   "name": "python",
   "nbconvert_exporter": "python",
   "pygments_lexer": "ipython3",
   "version": "3.8.8"
  }
 },
 "nbformat": 4,
 "nbformat_minor": 5
}

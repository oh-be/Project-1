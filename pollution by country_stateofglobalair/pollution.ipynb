{
 "cells": [
  {
   "cell_type": "code",
   "execution_count": 1,
   "id": "426d0745-eae5-4cca-b221-1580b4eda84c",
   "metadata": {},
   "outputs": [],
   "source": [
    "# Dependencies and Setup\n",
    "import matplotlib.pyplot as plt\n",
    "import pandas as pd\n",
    "import numpy as np\n",
    "import requests\n",
    "import os"
   ]
  },
  {
   "cell_type": "code",
   "execution_count": 2,
   "id": "eb25a47d-5635-4345-bef9-077503876ac0",
   "metadata": {},
   "outputs": [],
   "source": [
    "hap_path = 'data_fld\\data_hap.csv'\n",
    "df = pd.read_csv (hap_path)"
   ]
  },
  {
   "cell_type": "code",
   "execution_count": 8,
   "id": "ae0178dd-c32a-4537-bfa3-7e659eded4cf",
   "metadata": {},
   "outputs": [],
   "source": [
    "df.keys()\n",
    "df.columns = [\"Exposure Id\", \"Type\", \"Country\", \"ISO3\", \"Region\",\n",
    "       \"Name\", \"Exposure Lower\", \"Exposure Mean\", \"Exposure Upper\",\n",
    "       \"Year\", \"Pollutant\", \"Pollutant Name\", \"Region Name\",\n",
    "       \"Units\"]"
   ]
  },
  {
   "cell_type": "code",
   "execution_count": 9,
   "id": "1bb158c1-9436-4573-b200-982f6c53d568",
   "metadata": {},
   "outputs": [
    {
     "data": {
      "text/plain": [
       "Index(['Exposure Id', 'Type', 'Country', 'ISO3', 'Region', 'Name',\n",
       "       'Exposure Lower', 'Exposure Mean', 'Exposure Upper', 'Year',\n",
       "       'Pollutant', 'Pollutant Name', 'Region Name', 'Units'],\n",
       "      dtype='object')"
      ]
     },
     "execution_count": 9,
     "metadata": {},
     "output_type": "execute_result"
    }
   ],
   "source": [
    "df.keys()"
   ]
  },
  {
   "cell_type": "code",
   "execution_count": 5,
   "id": "7a5eb3bf-6349-4a83-a1cc-1066882d9d1a",
   "metadata": {},
   "outputs": [],
   "source": [
    "# # ------REF------REF------REF------REF\n",
    "# test_df[\"City\"] = hotel_df[\"City\"].apply(lambda x: x[8:])\n",
    "# hotel_df[\"LatLong\"].apply(lambda x: x[0])\n",
    "# hap_df[Exposure Mean] = hap_df[Exposure Mean].apply(lambda x: x[0])"
   ]
  },
  {
   "cell_type": "code",
   "execution_count": null,
   "id": "c3dab25b-aa05-473d-98e6-64739bb7e368",
   "metadata": {},
   "outputs": [],
   "source": []
  }
 ],
 "metadata": {
  "kernelspec": {
   "display_name": "Python 3",
   "language": "python",
   "name": "python3"
  },
  "language_info": {
   "codemirror_mode": {
    "name": "ipython",
    "version": 3
   },
   "file_extension": ".py",
   "mimetype": "text/x-python",
   "name": "python",
   "nbconvert_exporter": "python",
   "pygments_lexer": "ipython3",
   "version": "3.8.8"
  },
  "widgets": {
   "application/vnd.jupyter.widget-state+json": {
    "state": {},
    "version_major": 2,
    "version_minor": 0
   }
  }
 },
 "nbformat": 4,
 "nbformat_minor": 5
}
